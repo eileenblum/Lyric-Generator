{
  "nbformat": 4,
  "nbformat_minor": 0,
  "metadata": {
    "colab": {
      "name": "Soft-GAN.ipynb",
      "provenance": [],
      "collapsed_sections": [],
      "toc_visible": true,
      "include_colab_link": true
    },
    "kernelspec": {
      "name": "python3",
      "display_name": "Python 3"
    },
    "language_info": {
      "name": "python"
    },
    "accelerator": "GPU"
  },
  "cells": [
    {
      "cell_type": "markdown",
      "metadata": {
        "id": "view-in-github",
        "colab_type": "text"
      },
      "source": [
        "<a href=\"https://colab.research.google.com/github/eileenblum/Lyric-Generator/blob/main/Soft_GAN.ipynb\" target=\"_parent\"><img src=\"https://colab.research.google.com/assets/colab-badge.svg\" alt=\"Open In Colab\"/></a>"
      ]
    },
    {
      "cell_type": "code",
      "metadata": {
        "colab": {
          "base_uri": "https://localhost:8080/"
        },
        "id": "8I9OnAI8UDEo",
        "outputId": "29b6ade5-c51d-444b-9390-be393f8d1ca3"
      },
      "source": [
        "from google.colab import drive\n",
        "drive.mount('/content/drive')"
      ],
      "execution_count": null,
      "outputs": [
        {
          "output_type": "stream",
          "text": [
            "Mounted at /content/drive\n"
          ],
          "name": "stdout"
        }
      ]
    },
    {
      "cell_type": "code",
      "metadata": {
        "colab": {
          "base_uri": "https://localhost:8080/"
        },
        "id": "cZZ2Q6_OUT8-",
        "outputId": "cdfc92c4-ab12-4486-a02c-8c9b7ccbd9de"
      },
      "source": [
        "\n",
        "import pandas as pd\n",
        "import numpy as np\n",
        "import os\n",
        "import string\n",
        "import nltk\n",
        "import matplotlib.pyplot as plt\n",
        "import seaborn as sns\n",
        "\n",
        "### New:\n",
        "import tensorflow as tf\n",
        "\n",
        "from numpy import expand_dims\n",
        "from numpy import mean\n",
        "from numpy import ones\n",
        "from numpy.random import randn\n",
        "from numpy.random import randint\n",
        "from tensorflow.keras import layers\n",
        "import time \n",
        "\n",
        "from keras import backend\n",
        "from keras.optimizers import RMSprop\n",
        "from keras.initializers import RandomNormal\n",
        "from keras.layers import BatchNormalization\n",
        "\n",
        "!pip install tensorflow_addons\n",
        "!pip install sparse\n",
        "\n",
        "import tensorflow_addons as tfa\n",
        "from IPython import display\n",
        "###\n",
        "\n",
        "from nltk.stem import WordNetLemmatizer\n",
        "from nltk.corpus import abc\n",
        "from nltk.corpus import stopwords\n",
        "from textblob import Word\n",
        "sns.set_style(\"whitegrid\")\n"
      ],
      "execution_count": null,
      "outputs": [
        {
          "output_type": "stream",
          "text": [
            "Collecting tensorflow_addons\n",
            "\u001b[?25l  Downloading https://files.pythonhosted.org/packages/74/e3/56d2fe76f0bb7c88ed9b2a6a557e25e83e252aec08f13de34369cd850a0b/tensorflow_addons-0.12.1-cp37-cp37m-manylinux2010_x86_64.whl (703kB)\n",
            "\r\u001b[K     |▌                               | 10kB 22.0MB/s eta 0:00:01\r\u001b[K     |█                               | 20kB 14.3MB/s eta 0:00:01\r\u001b[K     |█▍                              | 30kB 12.7MB/s eta 0:00:01\r\u001b[K     |█▉                              | 40kB 11.8MB/s eta 0:00:01\r\u001b[K     |██▎                             | 51kB 7.9MB/s eta 0:00:01\r\u001b[K     |██▉                             | 61kB 8.2MB/s eta 0:00:01\r\u001b[K     |███▎                            | 71kB 8.6MB/s eta 0:00:01\r\u001b[K     |███▊                            | 81kB 9.5MB/s eta 0:00:01\r\u001b[K     |████▏                           | 92kB 8.6MB/s eta 0:00:01\r\u001b[K     |████▋                           | 102kB 8.8MB/s eta 0:00:01\r\u001b[K     |█████▏                          | 112kB 8.8MB/s eta 0:00:01\r\u001b[K     |█████▋                          | 122kB 8.8MB/s eta 0:00:01\r\u001b[K     |██████                          | 133kB 8.8MB/s eta 0:00:01\r\u001b[K     |██████▌                         | 143kB 8.8MB/s eta 0:00:01\r\u001b[K     |███████                         | 153kB 8.8MB/s eta 0:00:01\r\u001b[K     |███████▌                        | 163kB 8.8MB/s eta 0:00:01\r\u001b[K     |████████                        | 174kB 8.8MB/s eta 0:00:01\r\u001b[K     |████████▍                       | 184kB 8.8MB/s eta 0:00:01\r\u001b[K     |████████▉                       | 194kB 8.8MB/s eta 0:00:01\r\u001b[K     |█████████▎                      | 204kB 8.8MB/s eta 0:00:01\r\u001b[K     |█████████▉                      | 215kB 8.8MB/s eta 0:00:01\r\u001b[K     |██████████▎                     | 225kB 8.8MB/s eta 0:00:01\r\u001b[K     |██████████▊                     | 235kB 8.8MB/s eta 0:00:01\r\u001b[K     |███████████▏                    | 245kB 8.8MB/s eta 0:00:01\r\u001b[K     |███████████▋                    | 256kB 8.8MB/s eta 0:00:01\r\u001b[K     |████████████▏                   | 266kB 8.8MB/s eta 0:00:01\r\u001b[K     |████████████▋                   | 276kB 8.8MB/s eta 0:00:01\r\u001b[K     |█████████████                   | 286kB 8.8MB/s eta 0:00:01\r\u001b[K     |█████████████▌                  | 296kB 8.8MB/s eta 0:00:01\r\u001b[K     |██████████████                  | 307kB 8.8MB/s eta 0:00:01\r\u001b[K     |██████████████▍                 | 317kB 8.8MB/s eta 0:00:01\r\u001b[K     |███████████████                 | 327kB 8.8MB/s eta 0:00:01\r\u001b[K     |███████████████▍                | 337kB 8.8MB/s eta 0:00:01\r\u001b[K     |███████████████▉                | 348kB 8.8MB/s eta 0:00:01\r\u001b[K     |████████████████▎               | 358kB 8.8MB/s eta 0:00:01\r\u001b[K     |████████████████▊               | 368kB 8.8MB/s eta 0:00:01\r\u001b[K     |█████████████████▎              | 378kB 8.8MB/s eta 0:00:01\r\u001b[K     |█████████████████▊              | 389kB 8.8MB/s eta 0:00:01\r\u001b[K     |██████████████████▏             | 399kB 8.8MB/s eta 0:00:01\r\u001b[K     |██████████████████▋             | 409kB 8.8MB/s eta 0:00:01\r\u001b[K     |███████████████████             | 419kB 8.8MB/s eta 0:00:01\r\u001b[K     |███████████████████▋            | 430kB 8.8MB/s eta 0:00:01\r\u001b[K     |████████████████████            | 440kB 8.8MB/s eta 0:00:01\r\u001b[K     |████████████████████▌           | 450kB 8.8MB/s eta 0:00:01\r\u001b[K     |█████████████████████           | 460kB 8.8MB/s eta 0:00:01\r\u001b[K     |█████████████████████▍          | 471kB 8.8MB/s eta 0:00:01\r\u001b[K     |██████████████████████          | 481kB 8.8MB/s eta 0:00:01\r\u001b[K     |██████████████████████▍         | 491kB 8.8MB/s eta 0:00:01\r\u001b[K     |██████████████████████▉         | 501kB 8.8MB/s eta 0:00:01\r\u001b[K     |███████████████████████▎        | 512kB 8.8MB/s eta 0:00:01\r\u001b[K     |███████████████████████▊        | 522kB 8.8MB/s eta 0:00:01\r\u001b[K     |████████████████████████▎       | 532kB 8.8MB/s eta 0:00:01\r\u001b[K     |████████████████████████▊       | 542kB 8.8MB/s eta 0:00:01\r\u001b[K     |█████████████████████████▏      | 552kB 8.8MB/s eta 0:00:01\r\u001b[K     |█████████████████████████▋      | 563kB 8.8MB/s eta 0:00:01\r\u001b[K     |██████████████████████████      | 573kB 8.8MB/s eta 0:00:01\r\u001b[K     |██████████████████████████▋     | 583kB 8.8MB/s eta 0:00:01\r\u001b[K     |███████████████████████████     | 593kB 8.8MB/s eta 0:00:01\r\u001b[K     |███████████████████████████▌    | 604kB 8.8MB/s eta 0:00:01\r\u001b[K     |████████████████████████████    | 614kB 8.8MB/s eta 0:00:01\r\u001b[K     |████████████████████████████▍   | 624kB 8.8MB/s eta 0:00:01\r\u001b[K     |████████████████████████████▉   | 634kB 8.8MB/s eta 0:00:01\r\u001b[K     |█████████████████████████████▍  | 645kB 8.8MB/s eta 0:00:01\r\u001b[K     |█████████████████████████████▉  | 655kB 8.8MB/s eta 0:00:01\r\u001b[K     |██████████████████████████████▎ | 665kB 8.8MB/s eta 0:00:01\r\u001b[K     |██████████████████████████████▊ | 675kB 8.8MB/s eta 0:00:01\r\u001b[K     |███████████████████████████████▏| 686kB 8.8MB/s eta 0:00:01\r\u001b[K     |███████████████████████████████▊| 696kB 8.8MB/s eta 0:00:01\r\u001b[K     |████████████████████████████████| 706kB 8.8MB/s \n",
            "\u001b[?25hRequirement already satisfied: typeguard>=2.7 in /usr/local/lib/python3.7/dist-packages (from tensorflow_addons) (2.7.1)\n",
            "Installing collected packages: tensorflow-addons\n",
            "Successfully installed tensorflow-addons-0.12.1\n",
            "Collecting sparse\n",
            "\u001b[?25l  Downloading https://files.pythonhosted.org/packages/46/20/c409a0d0ea7623a936080e0038eb77a02e62629a07944706c26f24ebcbb8/sparse-0.12.0-py2.py3-none-any.whl (76kB)\n",
            "\u001b[K     |████████████████████████████████| 81kB 5.8MB/s \n",
            "\u001b[?25hRequirement already satisfied: scipy>=0.19 in /usr/local/lib/python3.7/dist-packages (from sparse) (1.4.1)\n",
            "Requirement already satisfied: numpy>=1.17 in /usr/local/lib/python3.7/dist-packages (from sparse) (1.19.5)\n",
            "Requirement already satisfied: numba>=0.49 in /usr/local/lib/python3.7/dist-packages (from sparse) (0.51.2)\n",
            "Requirement already satisfied: llvmlite<0.35,>=0.34.0.dev0 in /usr/local/lib/python3.7/dist-packages (from numba>=0.49->sparse) (0.34.0)\n",
            "Requirement already satisfied: setuptools in /usr/local/lib/python3.7/dist-packages (from numba>=0.49->sparse) (54.2.0)\n",
            "Installing collected packages: sparse\n",
            "Successfully installed sparse-0.12.0\n"
          ],
          "name": "stdout"
        }
      ]
    },
    {
      "cell_type": "markdown",
      "metadata": {
        "id": "EcCymAG_r5ae"
      },
      "source": [
        "# **Data Loading**"
      ]
    },
    {
      "cell_type": "code",
      "metadata": {
        "id": "gahnhRFvUT_f"
      },
      "source": [
        "# Use this to load the dataframe, word corpus, and word list:\n",
        "\n",
        "import pickle\n",
        "\n",
        "with open(\"/content/drive/MyDrive/NLP bootcamp project/Pro_Lyrics_corpus.txt\", \"rb\") as fp:\n",
        " Pro_Lyrics_corpus = pickle.load(fp)\n",
        "\n",
        "with open(\"/content/drive/MyDrive/NLP bootcamp project/Pro_Lyrics_corpus_english.txt\", \"rb\") as fp:\n",
        " Pro_Lyrics_corpus_english = pickle.load(fp)\n",
        "\n",
        "with open(\"/content/drive/MyDrive/NLP bootcamp project/Pro Lyrics list.txt\", \"rb\") as fp:\n",
        " Pro_Lyrics_list = pickle.load(fp)\n",
        "\n",
        "Pro_Lyrics_df = pd.read_csv(\"/content/drive/MyDrive/NLP bootcamp project/Pro_Lyrics_df.csv\")"
      ],
      "execution_count": null,
      "outputs": []
    },
    {
      "cell_type": "code",
      "metadata": {
        "colab": {
          "base_uri": "https://localhost:8080/"
        },
        "id": "4dzLM77Tkzt1",
        "outputId": "3967f358-0cc4-4e72-bfad-6b2e572f9790"
      },
      "source": [
        "len(Pro_Lyrics_corpus)"
      ],
      "execution_count": null,
      "outputs": [
        {
          "output_type": "execute_result",
          "data": {
            "text/plain": [
              "233392"
            ]
          },
          "metadata": {
            "tags": []
          },
          "execution_count": 4
        }
      ]
    },
    {
      "cell_type": "code",
      "metadata": {
        "colab": {
          "base_uri": "https://localhost:8080/"
        },
        "id": "k_ThZO_hw2GE",
        "outputId": "48ca45c7-5b5a-4a32-a06a-921c71d6cb32"
      },
      "source": [
        "len(Pro_Lyrics_df)"
      ],
      "execution_count": null,
      "outputs": [
        {
          "output_type": "execute_result",
          "data": {
            "text/plain": [
              "64082"
            ]
          },
          "metadata": {
            "tags": []
          },
          "execution_count": 5
        }
      ]
    },
    {
      "cell_type": "code",
      "metadata": {
        "colab": {
          "base_uri": "https://localhost:8080/",
          "height": 293
        },
        "id": "TOCWSgjlUUBP",
        "outputId": "4df37040-ae00-43e2-bc20-ca8033aaa35e"
      },
      "source": [
        "del Pro_Lyrics_df[\"Unnamed: 0\"]\n",
        "Pro_Lyrics_df.head()"
      ],
      "execution_count": null,
      "outputs": [
        {
          "output_type": "execute_result",
          "data": {
            "text/html": [
              "<div>\n",
              "<style scoped>\n",
              "    .dataframe tbody tr th:only-of-type {\n",
              "        vertical-align: middle;\n",
              "    }\n",
              "\n",
              "    .dataframe tbody tr th {\n",
              "        vertical-align: top;\n",
              "    }\n",
              "\n",
              "    .dataframe thead th {\n",
              "        text-align: right;\n",
              "    }\n",
              "</style>\n",
              "<table border=\"1\" class=\"dataframe\">\n",
              "  <thead>\n",
              "    <tr style=\"text-align: right;\">\n",
              "      <th></th>\n",
              "      <th>song_name</th>\n",
              "      <th>lyrics</th>\n",
              "      <th>type</th>\n",
              "      <th>cleaned_lyrics</th>\n",
              "      <th>words</th>\n",
              "    </tr>\n",
              "  </thead>\n",
              "  <tbody>\n",
              "    <tr>\n",
              "      <th>0</th>\n",
              "      <td>1. The Moulting (Intro).txt</td>\n",
              "      <td>\"Throughout the fluid mass, but downward purge...</td>\n",
              "      <td>1.0</td>\n",
              "      <td>throughout fluid mass downward purged black ta...</td>\n",
              "      <td>['throughout', 'fluid', 'mass', 'downward', 'p...</td>\n",
              "    </tr>\n",
              "    <tr>\n",
              "      <th>1</th>\n",
              "      <td>3. Feed Them Hate.txt</td>\n",
              "      <td>What lies above nourishes the below. The waste...</td>\n",
              "      <td>1.0</td>\n",
              "      <td>lie nourishes waste excrement rot soil flowing...</td>\n",
              "      <td>['lie', 'nourishes', 'waste', 'excrement', 'ro...</td>\n",
              "    </tr>\n",
              "    <tr>\n",
              "      <th>2</th>\n",
              "      <td>2. Vehement Indulgences.txt</td>\n",
              "      <td>Sickening lives. Throes of squalor. Hollowed l...</td>\n",
              "      <td>1.0</td>\n",
              "      <td>sickening life throe squalor hollowed layer ab...</td>\n",
              "      <td>['sickening', 'life', 'throe', 'squalor', 'hol...</td>\n",
              "    </tr>\n",
              "    <tr>\n",
              "      <th>3</th>\n",
              "      <td>4. The Bottomless Perdition.txt</td>\n",
              "      <td>Womb of nature.\\nSpoil and ruin.\\nDeath yawn s...</td>\n",
              "      <td>1.0</td>\n",
              "      <td>womb nature\\nspoil ruin\\ndeath yawn seethes\\nf...</td>\n",
              "      <td>['womb', 'nature', 'spoil', 'ruin', 'death', '...</td>\n",
              "    </tr>\n",
              "    <tr>\n",
              "      <th>4</th>\n",
              "      <td>3. Valley Of Defilement.txt</td>\n",
              "      <td>Rotten throne.\\nCorrupted master.\\nSending the...</td>\n",
              "      <td>1.0</td>\n",
              "      <td>rotten throne\\ncorrupted master\\nsending vacuo...</td>\n",
              "      <td>['rotten', 'throne', 'corrupted', 'master', 's...</td>\n",
              "    </tr>\n",
              "  </tbody>\n",
              "</table>\n",
              "</div>"
            ],
            "text/plain": [
              "                         song_name  ...                                              words\n",
              "0      1. The Moulting (Intro).txt  ...  ['throughout', 'fluid', 'mass', 'downward', 'p...\n",
              "1            3. Feed Them Hate.txt  ...  ['lie', 'nourishes', 'waste', 'excrement', 'ro...\n",
              "2      2. Vehement Indulgences.txt  ...  ['sickening', 'life', 'throe', 'squalor', 'hol...\n",
              "3  4. The Bottomless Perdition.txt  ...  ['womb', 'nature', 'spoil', 'ruin', 'death', '...\n",
              "4      3. Valley Of Defilement.txt  ...  ['rotten', 'throne', 'corrupted', 'master', 's...\n",
              "\n",
              "[5 rows x 5 columns]"
            ]
          },
          "metadata": {
            "tags": []
          },
          "execution_count": 6
        }
      ]
    },
    {
      "cell_type": "code",
      "metadata": {
        "id": "zXuk6B-sUZev"
      },
      "source": [
        "# This turns a sentence into a vector whose entries are the corpus indices of the words in the sentence, \n",
        "# ordered as they appear in the sentence.\n",
        "\n",
        "def sent_to_vec(sentence, corpus):\n",
        "  # corpus = Pro_Lyrics_corpus\n",
        "\n",
        "  # cleaning (technically shouldn't to need since the input sentence is pre-cleaned):\n",
        "  #sent = ' '.join(x for x in sentence.split() if x not in string.punctuation)\n",
        "  #sent = sent.str.replace('[^\\w\\s]','')\n",
        "  #sent = ' '.join(x.lower() for x in sent.split())\n",
        "  #sent = ' '.join(x for x in sent.split() if  not x.isdigit())\n",
        "  #sent = ' '.join(x for x in sent.split() if not x in stop)\n",
        "  #sent = ' '.join([Word(word).lemmatize() for word in sent.split()])\n",
        "  sent = sentence.split(\" \")\n",
        "\n",
        "  vec = []\n",
        "\n",
        "  for i in range(len(sent)):\n",
        "    if sent[i] in corpus:\n",
        "      vec.append(corpus.index(sent[i]))\n",
        "\n",
        "  return vec"
      ],
      "execution_count": null,
      "outputs": []
    },
    {
      "cell_type": "code",
      "metadata": {
        "id": "xTb6d6vEUZhL"
      },
      "source": [
        "# This converts whole songs to lists of their lines (sentences).\n",
        "\n",
        "def song_to_lines(song):\n",
        "  lines = song.split(\"\\n\")\n",
        "\n",
        "  return lines"
      ],
      "execution_count": null,
      "outputs": []
    },
    {
      "cell_type": "markdown",
      "metadata": {
        "id": "eluQ9XE6teTm"
      },
      "source": [
        "# **Training Data Encoding**\n",
        "\n",
        "Run the block of cells which has the input type you want. However, currently the architecture of the networks is setup for only the first two types (length $8$ input vectors)."
      ]
    },
    {
      "cell_type": "markdown",
      "metadata": {
        "id": "7nG4nDlYrury"
      },
      "source": [
        "## **Corpus-Index Encoded Length 8 Vectors, All Lines / All Corpus**\n",
        "\n",
        "Here, and in the following encoding, we represent lines as vectors of length $8$, where the $i^{th}$ entry of such a vector $v$ is the corpus index of the $i^{th}$ word in $v$.\n",
        "\n",
        "For example, the vector $(102, 1548, 0,0,0,0,0,0)$ would correspond to `Hello world` if the index of `Hello` in the corpus was $102$ and the index of `world` in the corpus was $1548$."
      ]
    },
    {
      "cell_type": "code",
      "metadata": {
        "id": "D4PsmF3CUeqK"
      },
      "source": [
        "# DON'T USE THIS, IT USES ENGLISH CORPUS BUT THE LINES HAVEN'T BEEN CLEANED FOR NON-ENGLISH LINES.\n",
        "\n",
        "# Data Prep (takes about 90 min to run) use the next cell instead:\n",
        "\n",
        "BUFFER_SIZE = 60000\n",
        "BATCH_SIZE = 64\n",
        "\n",
        "# Edit this!:\n",
        "\n",
        "lines = Pro_Lyrics_df[\"cleaned_lyrics\"].apply(song_to_lines)\n",
        "#now this is a pandas Series of lists of lines, example: lines.loc[5] = list of line strings in the 5th song.\n",
        "lines_list = [line for i in lines.index for line in lines.loc[i]]\n",
        "# now a list of lines. (the for's are backwards because Python needs this for double list-comprehension)\n",
        "\n",
        "# need a corpus here:\n",
        "train_sents = [sent_to_vec(line, Pro_Lyrics_corpus) for line in lines_list]\n",
        "\n",
        "# lines in a song should be roughly 8 words long:\n",
        "maxlen = 8\n",
        "\n",
        "train_sents_padded = tf.keras.preprocessing.sequence.pad_sequences(train_sents, maxlen=maxlen, padding='post').astype('float32')\n",
        "\n",
        "train_sents_padded = tf.expand_dims(train_sents_padded, axis = -1)\n",
        "train_sents_padded.shape\n",
        "\n",
        "with open(\"/content/drive/MyDrive/NLP bootcamp project/train_sents.txt\", \"wb\") as fp:\n",
        "  pickle.dump(train_sents, fp)"
      ],
      "execution_count": null,
      "outputs": []
    },
    {
      "cell_type": "code",
      "metadata": {
        "id": "EcXJ4pszUesj"
      },
      "source": [
        "\n",
        "# Run this instead. the \"train_sents = [sent_to_vec(line, Pro_Lyrics_corpus) for line in lines_list]\" is loaded first:\n",
        "\n",
        "with open(\"/content/drive/MyDrive/NLP bootcamp project/train_sents.txt\", \"rb\") as fp:\n",
        "  train_sents = pickle.load(fp)\n",
        "\n",
        "lines = Pro_Lyrics_df[\"cleaned_lyrics\"].apply(song_to_lines)\n",
        "#now this is a pandas Series of lists of lines, example: lines.loc[5] = list of line strings in the 5th song.\n",
        "lines_list = [line for i in lines.index for line in lines.loc[i]]\n",
        "# now a list of lines. (the for's are backwards because Python needs this for double list-comprehension)\n",
        "\n",
        "BUFFER_SIZE = 60000\n",
        "BATCH_SIZE = 64\n",
        "\n",
        "maxlen = 8\n",
        "\n",
        "# We pad with 1059.0 here, as 1059 is the index of the string \"\" in the corpus.\n",
        "train_sents_padded = tf.keras.preprocessing.sequence.pad_sequences(train_sents, maxlen=maxlen, dtype = 'float32', padding='post', value = 1059.0)\n",
        "\n",
        "train_sents_padded = tf.expand_dims(train_sents_padded, axis = -1)\n",
        "train_sents_padded.shape\n",
        "\n",
        "train_dataset = tf.data.Dataset.from_tensor_slices(train_sents_padded).shuffle(BUFFER_SIZE).batch(BATCH_SIZE)"
      ],
      "execution_count": null,
      "outputs": []
    },
    {
      "cell_type": "markdown",
      "metadata": {
        "id": "_pkEn2qIrT6g"
      },
      "source": [
        "## **Corpus-Index Encoded Length 8 Vectors, English Lines / English Corpus**\n",
        "\n",
        "This encoding is the same as the last, but we limit our lines and corpus to only contain words in the `nltk` English dictionary."
      ]
    },
    {
      "cell_type": "code",
      "metadata": {
        "id": "hYj0fNMz4tA8"
      },
      "source": [
        "# Cleaning the lines of non-english:\n",
        "\n",
        "lines = Pro_Lyrics_df[\"cleaned_lyrics\"].apply(song_to_lines)\n",
        "#now this is a pandas Series of lists of lines, example: lines.loc[5] = list of line strings in the 5th song.\n",
        "lines_list = [line for i in lines.index for line in lines.loc[i]]\n",
        "# now a list of lines. (the for's are backwards because Python needs this for double list-comprehension)\n",
        "english_lines_list = []\n",
        "for line in lines_list:\n",
        "  vec_line = line.split()\n",
        "  c = True\n",
        "  for word in vec_line:\n",
        "    if word not in Pro_Lyrics_corpus_english:\n",
        "      c = False\n",
        "      break\n",
        "  if c and (line != \"\"):\n",
        "    english_lines_list.append(line)\n",
        "\n",
        "# now only english lines\n"
      ],
      "execution_count": null,
      "outputs": []
    },
    {
      "cell_type": "code",
      "metadata": {
        "colab": {
          "base_uri": "https://localhost:8080/"
        },
        "id": "RnWClCCZVqdr",
        "outputId": "72a07718-6d22-4fd9-9c05-c388d78c7e6d"
      },
      "source": [
        "print(len(english_lines_list))\n",
        "print(len(lines_list))\n",
        "\n",
        "# so almost 1/4 the size!"
      ],
      "execution_count": null,
      "outputs": [
        {
          "output_type": "stream",
          "text": [
            "559603\n",
            "2371452\n"
          ],
          "name": "stdout"
        }
      ]
    },
    {
      "cell_type": "code",
      "metadata": {
        "id": "ZCjrfw8DeXit"
      },
      "source": [
        "# Adding '' to the corpus so we can use it (in the case of our inputs being length 8 vectors of corpus indices)\n",
        "Pro_Lyrics_corpus_english.append(\"\")"
      ],
      "execution_count": null,
      "outputs": []
    },
    {
      "cell_type": "code",
      "metadata": {
        "colab": {
          "base_uri": "https://localhost:8080/"
        },
        "id": "6idiXZEhe1n0",
        "outputId": "bf400dcb-2433-4024-ad41-0b5f2a612e64"
      },
      "source": [
        "Pro_Lyrics_corpus_english.index(\"\")"
      ],
      "execution_count": null,
      "outputs": [
        {
          "output_type": "execute_result",
          "data": {
            "text/plain": [
              "31489"
            ]
          },
          "metadata": {
            "tags": []
          },
          "execution_count": 13
        }
      ]
    },
    {
      "cell_type": "code",
      "metadata": {
        "id": "gDmME3fYdppp"
      },
      "source": [
        "# USE THIS FOR ENGLISH VECTOR-LENGTH-8-CORPUS-INDEX INPUT (it uses english corpus AND non-english removed lines):\n",
        "\n",
        "new_train_sents_english = [sent_to_vec(line, Pro_Lyrics_corpus_english) for line in english_lines_list]\n",
        "\n",
        "# lines in a song should be roughly 8 words long:\n",
        "maxlen = 8\n",
        "\n",
        "train_sents_padded = tf.keras.preprocessing.sequence.pad_sequences(new_train_sents_english, maxlen=maxlen, dtype='float32', padding='post', value = 31489.0)\n",
        "\n",
        "train_sents_padded = tf.expand_dims(train_sents_padded, axis = -1)\n",
        "train_sents_padded.shape\n",
        "\n",
        "with open(\"/content/drive/MyDrive/NLP bootcamp project/new_train_sents_english.txt\", \"wb\") as fp:\n",
        "  pickle.dump(new_train_sents_english, fp)"
      ],
      "execution_count": null,
      "outputs": []
    },
    {
      "cell_type": "code",
      "metadata": {
        "id": "g6h8AMJ7m68z"
      },
      "source": [
        "# Run this instead. the \"train_sents = [sent_to_vec(line, Pro_Lyrics_corpus_english) for line in english_lines_list]\" is loaded first:\n",
        "\n",
        "with open(\"/content/drive/MyDrive/NLP bootcamp project/new_train_sents_english.txt\", \"rb\") as fp:\n",
        "  new_train_sents_english = pickle.load(fp)\n",
        "\n",
        "lines = Pro_Lyrics_df[\"cleaned_lyrics\"].apply(song_to_lines)\n",
        "#now this is a pandas Series of lists of lines, example: lines.loc[5] = list of line strings in the 5th song.\n",
        "lines_list = [line for i in lines.index for line in lines.loc[i]]\n",
        "# now a list of lines. (the for's are backwards because Python needs this for double list-comprehension)\n",
        "\n",
        "BUFFER_SIZE = 60000\n",
        "BATCH_SIZE = 64\n",
        "\n",
        "maxlen = 8\n",
        "\n",
        "# We pad with 1059.0 here, as 1059 is the index of the string \"\" in the corpus.\n",
        "train_sents_padded = tf.keras.preprocessing.sequence.pad_sequences(new_train_sents_english, maxlen=maxlen, dtype = 'float32', padding='post', value = 31489.0)\n",
        "\n",
        "train_sents_padded = tf.expand_dims(train_sents_padded, axis = -1)\n",
        "train_sents_padded.shape\n",
        "\n",
        "train_dataset = tf.data.Dataset.from_tensor_slices(train_sents_padded).shuffle(BUFFER_SIZE).batch(BATCH_SIZE)"
      ],
      "execution_count": null,
      "outputs": []
    },
    {
      "cell_type": "markdown",
      "metadata": {
        "id": "hhSuhz_ssJQP"
      },
      "source": [
        "## **Order Preserving One-Hot Encoded Length 16 Matrices, English Lines / English Corpus**\n",
        "\n",
        "Here, each line is encoded as an $l_L \\times l_C$ size matrix $M$, where $l_L$ is the line length and $l_C$ is the corpus length. For us, that means when converted to NumPy float64 arrays, each line is roughly $4$ Mb.\n",
        "\n",
        "The lines are stored as follows: the $i^{th}$ word $w^i$ in the sentence is represented by a vector of length $l_C$, call it $v^i_C = (0,\\dots,0,1,0,\\dots,0)^\\top$ with $1$ at the index where $w^i$ occurs in the corpus. Then, the first column of the matrix is the one-hot-encoded vector $v^1_C$ of the first word, and the second column is $v^2_C$ for the second word, and so on. Thus:\n",
        "$$M = [v^1_C \\enspace v^2_C \\enspace \\dots \\enspace v^{l_L}_C]$$ \n",
        "\n",
        "We constrain our data to have $l_L = 16$ so that generated lines can be at most $16$ words long, but may be less if the later $v_C$ vectors contain all zeros."
      ]
    },
    {
      "cell_type": "code",
      "metadata": {
        "id": "oUStzaxShlYW"
      },
      "source": [
        "def convert_sparse_matrix_to_sparse_tensor(X):\n",
        "    coo = sparse.COO(X)\n",
        "    indices = coo.coords.transpose()\n",
        "    return tf.sparse.reorder(tf.SparseTensor(indices, coo.data, coo.shape))"
      ],
      "execution_count": null,
      "outputs": []
    },
    {
      "cell_type": "code",
      "metadata": {
        "id": "4Uvtzijlc5De"
      },
      "source": [
        "# NOTE: This takes 2-3 hours to run!\n",
        "# This makes order-preserving one-hot-encoded matrices (scipy sparse) of the english lines (using english corpus):\n",
        "# Note we say \"one-hot-vector\" often in this cell but these are always 2D matrices, not vectors.\n",
        "\n",
        "import sparse\n",
        "from scipy.sparse import csc_matrix\n",
        "from scipy.sparse import lil_matrix\n",
        "\n",
        "# Note: corpus and training lines are way too big to do this with Numpy arrays! \n",
        "\n",
        "maxlen = 16\n",
        "\n",
        "#train_one_hot_vectors = lil_matrix((len(english_lines_list), maxlen, len(Pro_Lyrics_corpus_english)))\n",
        "train_one_hot_vectors = sparse.DOK((len(english_lines_list), maxlen, len(Pro_Lyrics_corpus_english)))\n",
        "\n",
        "for i in range(len(english_lines_list)):\n",
        "  sent_vec = sent_to_vec(english_lines_list[i], Pro_Lyrics_corpus_english)\n",
        "  for j in range(min(maxlen, len(sent_vec))):\n",
        "    for k in range(len(Pro_Lyrics_corpus_english)):\n",
        "      if sent_vec[j] == k:\n",
        "        train_one_hot_vectors[i,j,k] = 1.0\n",
        "        continue\n",
        "\n",
        "BUFFER_SIZE = 60000\n",
        "BATCH_SIZE = 64\n",
        "\n",
        "# Saving:\n",
        "sparse.save_npz(\"/content/drive/MyDrive/NLP bootcamp project/train_one_hot_sparse_matrix.npz\", train_one_hot_vectors)\n",
        "\n",
        "train_one_hot_tensors = convert_sparse_matrix_to_sparse_tensor(train_one_hot_vectors)\n",
        "\n",
        "train_one_hot_tensors = tf.sparse.expand_dims(train_one_hot_tensors, axis = -1)\n",
        "train_one_hot_tensors.shape\n"
      ],
      "execution_count": null,
      "outputs": []
    },
    {
      "cell_type": "code",
      "metadata": {
        "id": "4PoZl4i0vLpN"
      },
      "source": [
        "train_one_hot_tensors.shape\n",
        "\n",
        "train_dataset = tf.data.Dataset.from_tensor_slices(train_one_hot_tensors).shuffle(BUFFER_SIZE).batch(BATCH_SIZE)"
      ],
      "execution_count": null,
      "outputs": []
    },
    {
      "cell_type": "code",
      "metadata": {
        "id": "mGXYR1VfmdJ3"
      },
      "source": [
        "# Run this instead: we load the pre-made train_one_hot_vectors from the above cell:\n",
        "\n",
        "train_one_hot_vectors = sparse.load_npz(\"/content/drive/MyDrive/NLP bootcamp project/train_one_hot_sparse_matrix.npz\")\n",
        "\n",
        "BUFFER_SIZE = 60000\n",
        "BATCH_SIZE = 64\n",
        "\n",
        "train_one_hot_tensors = convert_sparse_matrix_to_sparse_tensor(train_one_hot_vectors)\n",
        "\n",
        "train_one_hot_tensors = tf.expand_dims(train_one_hot_tensors, axis = -1)\n",
        "train_one_hot_tensors.shape\n",
        "\n",
        "train_dataset = tf.data.Dataset.from_tensor_slices(train_one_hot_tensors).shuffle(BUFFER_SIZE).batch(BATCH_SIZE)"
      ],
      "execution_count": null,
      "outputs": []
    },
    {
      "cell_type": "markdown",
      "metadata": {
        "id": "6gIAW8xEsckd"
      },
      "source": [
        "# **Function Definitions**"
      ]
    },
    {
      "cell_type": "code",
      "metadata": {
        "id": "u3ToHaTDUjal"
      },
      "source": [
        "# clip model weights to a given hypercube\n",
        "from keras.constraints import Constraint\n",
        "\n",
        "class ClipConstraint(Constraint):\n",
        "\t# set clip value when initialized\n",
        "\tdef __init__(self, clip_value):\n",
        "\t\tself.clip_value = clip_value\n",
        " \n",
        "\t# clip model weights to hypercube\n",
        "\tdef __call__(self, weights):\n",
        "\t\treturn backend.clip(weights, -self.clip_value, self.clip_value)\n",
        " \n",
        "\t# get the config\n",
        "\tdef get_config(self):\n",
        "\t\treturn {'clip_value': self.clip_value}"
      ],
      "execution_count": null,
      "outputs": []
    },
    {
      "cell_type": "code",
      "metadata": {
        "id": "RYR9AgO6UpOc"
      },
      "source": [
        "# This is the \"activation\" after decoding, since the encoder and decoder will produce and train on float values.\n",
        "# So any generated sentences must be run through this after being decoded.\n",
        "\n",
        "# length is the length of the corpus for modular arithmetic.\n",
        "\n",
        "def rectifier(T, length):\n",
        "  m = np.array(T)\n",
        "  new_m = np.zeros(np.shape(m))\n",
        "\n",
        "  for idx, x in np.ndenumerate(m):\n",
        "    new_m[idx] = round(x)\n",
        "\n",
        "  new_m = new_m.astype(int)\n",
        "\n",
        "  for idx, x in np.ndenumerate(new_m):\n",
        "    modular_x = x % length\n",
        "    new_m[idx] = modular_x\n",
        "\n",
        "  return new_m\n"
      ],
      "execution_count": null,
      "outputs": []
    },
    {
      "cell_type": "code",
      "metadata": {
        "id": "72HF59IFVa-5"
      },
      "source": [
        "# The one-hot order-preserving version of the rectifier. We use argmax for the choice of \n",
        "# which word appears in place i because the input will be tanh-activation rescaled to be in (0,1).\n",
        "# T has shape (maxlen, len(Pro_Lyrics_corpus_english))\n",
        "\n",
        "def ordered_one_hot_rectifier(T):\n",
        "  m = np.array(T)\n",
        "  new_m = np.zeros(np.shape(m))\n",
        "\n",
        "  for i in range(m.shape[0]):\n",
        "      new_m[i, np.argmax(m[i,:])] = 1.0\n",
        "\n",
        "  new_m = new_m.astype(int)\n",
        "\n",
        "  return new_m\n"
      ],
      "execution_count": null,
      "outputs": []
    },
    {
      "cell_type": "code",
      "metadata": {
        "id": "Uj4cA1m3UpRp"
      },
      "source": [
        "# implementation of wasserstein loss\n",
        "def wasserstein_loss(y_true, y_pred):\n",
        "\treturn backend.mean(y_true * y_pred)\n",
        " \n",
        "# cross entropy loss for the encoder/decoder:\n",
        "cross_entropy = tf.keras.losses.BinaryCrossentropy(from_logits=True)\n",
        "# Or MSE loss for encoder/decoder:\n",
        "MSE = tf.keras.losses.MeanSquaredError()"
      ],
      "execution_count": null,
      "outputs": []
    },
    {
      "cell_type": "code",
      "metadata": {
        "id": "PAtSYsrpUtg9"
      },
      "source": [
        "def gradient_penalty(real, fake, epsilon): \n",
        "    #mixed_images = real * epsilon + fake * (1 - epsilon)\n",
        "    mixed_images = fake + epsilon * (real - fake)\n",
        "    with tf.GradientTape() as tape:\n",
        "        tape.watch(mixed_images) \n",
        "        mixed_scores = discriminator1(mixed_images)\n",
        "        \n",
        "    gradient = tape.gradient(mixed_scores, mixed_images)[0]\n",
        "    \n",
        "    gradient_norm = tf.norm(gradient)\n",
        "    penalty = tf.math.reduce_mean((gradient_norm - 1)**2)\n",
        "    return penalty"
      ],
      "execution_count": null,
      "outputs": []
    },
    {
      "cell_type": "code",
      "metadata": {
        "id": "P2vTrrPZUtje"
      },
      "source": [
        "# Losses:\n",
        "# Note: -1 = real, 1 = fake.\n",
        "\n",
        "def discriminator_loss_total(real_output, fake_output, gradient_penalty):\n",
        "    C_lambda = 10\n",
        "    real_loss = wasserstein_loss(-1*tf.ones_like(real_output), real_output)\n",
        "    fake_loss = wasserstein_loss(tf.ones_like(fake_output), fake_output)\n",
        "\n",
        "    total_loss = real_loss + fake_loss + C_lambda * gradient_penalty\n",
        "    return total_loss\n",
        "\n",
        "def discriminator_loss_real(real_output):\n",
        "    real_loss = wasserstein_loss(-1*tf.ones_like(real_output), real_output)\n",
        "    return real_loss\n",
        "\n",
        "def discriminator_loss_fake(fake_output):\n",
        "    fake_loss = wasserstein_loss(tf.ones_like(fake_output), fake_output)\n",
        "    return fake_loss\n",
        "\n",
        "# Encoder/decoder losses:\n",
        "\n",
        "def encoderdecoder_loss(discriminated_fake_decoded_encoded_output, discriminated_real_decoded_encoded_output):\n",
        "\n",
        "    real_loss = MSE(discriminated_real_decoded_encoded_output, -1*tf.ones_like(discriminated_real_decoded_encoded_output))\n",
        "    fake_loss = MSE(discriminated_fake_decoded_encoded_output, tf.ones_like(discriminated_fake_decoded_encoded_output))\n",
        "\n",
        "    return real_loss + fake_loss\n"
      ],
      "execution_count": null,
      "outputs": []
    },
    {
      "cell_type": "markdown",
      "metadata": {
        "id": "ArCikBEAspCG"
      },
      "source": [
        "# **Network Architecture**"
      ]
    },
    {
      "cell_type": "code",
      "metadata": {
        "id": "AmnjcmjIUyP5"
      },
      "source": [
        "# DCGANs usually use 100,000 - 500,000 iterations (epochs) for the generator...Colab pro?\n",
        "EPOCHS = 10\n",
        "\n",
        "noise_dim = 100\n",
        "# make this a square (1,4,16,... etc.) for the subplotting code:\n",
        "num_examples_to_generate = 4\n",
        "\n",
        "# We will reuse this seed overtime (so it's easier)\n",
        "# to visualize progress in the animated GIF)\n",
        "seed = tf.random.normal([num_examples_to_generate, noise_dim])"
      ],
      "execution_count": null,
      "outputs": []
    },
    {
      "cell_type": "code",
      "metadata": {
        "id": "NCU4rlsxUySc"
      },
      "source": [
        "# edit this:\n",
        "\n",
        "# NOTE: LSTM layers can have masks! should we use?\n",
        "# size used to be 512.\n",
        "# input to LSTM: [batch, timesteps, features]\n",
        "\n",
        "def make_encoder():\n",
        "  \n",
        "  model = tf.keras.Sequential()\n",
        "  model.add(tf.keras.layers.LSTM(100, input_shape=(8,1)))  #input_shape=(None,8,1)?\n",
        "  # Shape is now [64,100]\n",
        "\n",
        "  # some reshaping here?\n",
        "  model.add(layers.Reshape((100, 1)))\n",
        "\n",
        "  model.add(tf.keras.layers.LSTM(100))\n",
        "\n",
        "\n",
        "  return model"
      ],
      "execution_count": null,
      "outputs": []
    },
    {
      "cell_type": "code",
      "metadata": {
        "id": "B6KknbThUyU9"
      },
      "source": [
        "# edit this:\n",
        "def make_decoder():\n",
        "\n",
        "  model = tf.keras.Sequential()\n",
        "  model.add(tf.keras.layers.RepeatVector(8, input_shape=(100,)))   #input_shape=(None,100) when applying decoder to something\n",
        "  #model.add(tf.keras.layers.RepeatVector(233392)) #?????????\n",
        "  model.add(tf.keras.layers.LSTM(100, return_sequences=True)) \n",
        "\n",
        "  # Makes it take too long if 512:\n",
        "  model.add(tf.keras.layers.LSTM(100, return_sequences=True)) \n",
        "\n",
        "  # here we have a tanh activation (since all the LSTM layers do as well...could try sigmoid though)\n",
        "  # since we want output to be restricted.\n",
        "  model.add(tf.keras.layers.TimeDistributed(tf.keras.layers.Dense(1, activation = 'tanh')))\n",
        "\n",
        "  return model"
      ],
      "execution_count": null,
      "outputs": []
    },
    {
      "cell_type": "code",
      "metadata": {
        "id": "LmbLXIf2ayAH"
      },
      "source": [
        "# This is a generic discriminator, reducing dimension equally with each layer.\n",
        "\n",
        "def make_discriminator_model1(r, dropout):\n",
        "    # weight initialization\n",
        "    init = RandomNormal(stddev=0.02)\n",
        "\t  # weight constraint\n",
        "    const = ClipConstraint(0.01)\n",
        "   \n",
        "    model = tf.keras.Sequential()\n",
        "    model.add(layers.Conv1D(32, 3, strides=2, padding='same', input_shape=[8, 1], kernel_initializer=init, kernel_regularizer=tf.keras.regularizers.L2(l2=r), kernel_constraint = const))\n",
        "    model.add(layers.LeakyReLU())\n",
        "    model.add(layers.Dropout(dropout))\n",
        "    # size now is [4, 1]\n",
        "\n",
        "    model.add(layers.Conv1D(64, 1, strides=2, padding='same', kernel_initializer=init, kernel_regularizer=tf.keras.regularizers.L2(l2=r), kernel_constraint = const))\n",
        "    model.add(layers.LeakyReLU())\n",
        "    model.add(layers.Dropout(dropout))\n",
        "    # size now is [2, 1]\n",
        "\n",
        "    model.add(layers.Conv1D(128, 1, strides=2, padding='same', kernel_initializer=init, kernel_regularizer=tf.keras.regularizers.L2(l2=r), kernel_constraint = const))\n",
        "    model.add(layers.LeakyReLU())\n",
        "    model.add(layers.Dropout(dropout))\n",
        "    # size now is [1, 1]\n",
        "\n",
        "   # model.add(layers.Conv1D(256, (1, 1), strides=(2, 2), padding='same', kernel_initializer=init, kernel_regularizer=tf.keras.regularizers.L2(l2=r), kernel_constraint = const))\n",
        "    #model.add(layers.LeakyReLU())\n",
        "    #model.add(layers.Dropout(dropout))\n",
        "    # size now is [1, 14587, 1]\n",
        "\n",
        "    # What to do for this layer?\n",
        "    #model.add(layers.Conv2D(512, (1, 1), strides=(1, 29), padding='same', kernel_initializer=init, kernel_regularizer=tf.keras.regularizers.L2(l2=r), kernel_constraint = const))\n",
        "    #model.add(layers.LeakyReLU())\n",
        "    #model.add(layers.Dropout(dropout))\n",
        "    # size now is [1, 503, 1]\n",
        "\n",
        "    model.add(layers.Flatten())\n",
        "    model.add(layers.Dense(1))\n",
        "\n",
        "\n",
        "    return model"
      ],
      "execution_count": null,
      "outputs": []
    },
    {
      "cell_type": "markdown",
      "metadata": {
        "id": "Nj0fzgGUsyyK"
      },
      "source": [
        "# **Training Loops**"
      ]
    },
    {
      "cell_type": "code",
      "metadata": {
        "id": "ReDeE5AvUyXe"
      },
      "source": [
        "\n",
        "@tf.function\n",
        "def encoderdecoder_train_step(batch):\n",
        "\n",
        "  with tf.GradientTape() as ed_tape:\n",
        "    encoded_batch = encoder(batch, training=True)\n",
        "    decoded_encoded_batch = decoder(encoded_batch, training=True)\n",
        "\n",
        "    # Resizing:\n",
        "    # activation is tanh, and (0.5*(tanh(x) + 1) gives a probability in (0,1):\n",
        "    decoded_encoded_batch = (0.5*(decoded_encoded_batch + 1)) * len(Pro_Lyrics_corpus_english)\n",
        "    fake_output1 = discriminator1(decoded_encoded_batch, training=True)\n",
        "    real_output1 = discriminator1(batch, training=True)\n",
        "\n",
        "    # Can't do this, as we get \"NotImplementedError: Cannot convert a symbolic Tensor (mul_1:0) to a numpy array.\"\n",
        "    #decoded_encoded_batch = rectifier(np.array(decoded_encoded_batch), len(Pro_Lyrics_corpus_english))\n",
        "\n",
        "    # Can't do this either, don't have kernel gradients???\n",
        "    #decoded_encoded_batch = tf_rectifier(decoded_encoded_batch, tf.convert_to_tensor(Pro_Lyrics_corpus_english))\n",
        "\n",
        "    # Here the encoder and decoder are trained as one:\n",
        "    ed_loss = encoderdecoder_loss(fake_output1, real_output1)\n",
        "\n",
        "  gradients_of_encoder_plus_decoder = ed_tape.gradient(ed_loss, encoder.trainable_variables + decoder.trainable_variables)\n",
        "\n",
        "  encoderdecoder_optimizer.apply_gradients(zip(gradients_of_encoder_plus_decoder, encoder.trainable_variables + decoder.trainable_variables))\n",
        "\n",
        "  return ed_loss"
      ],
      "execution_count": null,
      "outputs": []
    },
    {
      "cell_type": "code",
      "metadata": {
        "id": "52T3BL3Xc2p7"
      },
      "source": [
        "@tf.function\n",
        "def discrim_train_step(batch):\n",
        "    noise = tf.random.normal([len(batch), noise_dim])\n",
        "\n",
        "    with tf.GradientTape() as disc1_tape, tf.GradientTape() as ed_tape:\n",
        "        encoded_batch = encoder(batch, training=True)\n",
        "        decoded_encoded_batch = decoder(encoded_batch, training=True)\n",
        "        decoded_encoded_batch = (0.5*(decoded_encoded_batch + 1)) * len(Pro_Lyrics_corpus_english)\n",
        "\n",
        "        generated_batch = decoder(noise, training=True)\n",
        "        generated_batch = (0.5*(generated_batch + 1)) * len(Pro_Lyrics_corpus_english)\n",
        "\n",
        "        real_output1 = discriminator1(decoded_encoded_batch, training=True)\n",
        "        fake_output1 = discriminator1(generated_batch, training=True)\n",
        "\n",
        "        # do we want shape [len(batch), 100, 1] or [len(batch), 1, 1]???\n",
        "        epsilon = tf.random.normal([len(batch), 1, 1], 0.0, 1.0)\n",
        "        # We need the gradient penalty to happen at the encoded level:\n",
        "        gp = gradient_penalty(decoded_encoded_batch, generated_batch, epsilon)\n",
        "\n",
        "        disc1_loss = discriminator_loss_total(real_output1, fake_output1, gp)\n",
        "\n",
        "        disc1_loss_r = discriminator_loss_real(real_output1)\n",
        "        disc1_loss_f = discriminator_loss_fake(fake_output1)\n",
        "\n",
        "\n",
        "    gradients_of_discriminator1 = disc1_tape.gradient(disc1_loss, discriminator1.trainable_variables)\n",
        "\n",
        "    discriminator_optimizer1.apply_gradients(zip(gradients_of_discriminator1, discriminator1.trainable_variables))\n",
        "\n",
        "    return disc1_loss, disc1_loss_r, disc1_loss_f"
      ],
      "execution_count": null,
      "outputs": []
    },
    {
      "cell_type": "code",
      "metadata": {
        "id": "-73Uzob6UUEA"
      },
      "source": [
        "# This trains the encoder/decoder:\n",
        "\n",
        "def train(dataset, epochs):\n",
        "  n_critic = 5\n",
        "  c_hist, c_r_hist, c_f_hist, ed_hist = list(), list(), list(), list()\n",
        "  count = 0\n",
        "\n",
        "  for epoch in range(epochs):\n",
        "    start = time.time()\n",
        "\n",
        "    for batch in dataset:\n",
        "      c_tmp, c_r_tmp, c_f_tmp = list(), list(), list()\n",
        "\n",
        "      for _ in range(n_critic):\n",
        "        c_loss, c_r_loss, c_f_loss = discrim_train_step(batch)\n",
        "        c_tmp.append(c_loss)\n",
        "        c_r_tmp.append(c_r_loss)\n",
        "        c_f_tmp.append(c_f_loss)\n",
        "\n",
        "      c_hist.append(mean(c_tmp))\n",
        "      c_r_hist.append(mean(c_r_tmp))\n",
        "      c_f_hist.append(mean(c_f_tmp))\n",
        "\n",
        "      ed_tmp = encoderdecoder_train_step(batch)\n",
        "      ed_hist.append(ed_tmp)\n",
        "\n",
        "      if count%1000 == 0:\n",
        "        print('>%d, c1=%.3f, c1r=%.3f, c1f=%.3f, ed=%.3f' % (count+1, c_hist[-1], c_r_hist[-1], c_f_hist[-1], ed_hist[-1]))\n",
        "\n",
        "      count += 1\n",
        "\n",
        "    # Print a generated song line every epoch:\n",
        "    #display.clear_output(wait=True)\n",
        "    if (epoch + 1) % 1 == 0:\n",
        "      generate_and_save(decoder, epoch + 1, seed)\n",
        "\n",
        "    # Save the model every 5 epochs\n",
        "    if (epoch + 1) % 5 == 0:\n",
        "      checkpoint.save(file_prefix = checkpoint_prefix)\n",
        "\n",
        "    print ('Time for epoch {} is {} sec'.format(epoch + 1, time.time()-start))\n",
        "\n",
        "  generate_and_save(decoder, epochs, seed)\n",
        "\n",
        "  return c_hist, c_r_hist, c_f_hist, ed_hist"
      ],
      "execution_count": null,
      "outputs": []
    },
    {
      "cell_type": "code",
      "metadata": {
        "id": "U9uMXpTkU8Eo"
      },
      "source": [
        "def decode_and_print(prediction_vec, corpus):\n",
        "  sent = []\n",
        "  for idx, word_index in np.ndenumerate(prediction_vec):\n",
        "    sent.append(corpus[word_index])\n",
        "\n",
        "  sentence = \"\"\n",
        "  for word in sent:\n",
        "    sentence = sentence + word + \" \"\n",
        "\n",
        "  return sentence\n"
      ],
      "execution_count": null,
      "outputs": []
    },
    {
      "cell_type": "code",
      "metadata": {
        "id": "6AJapFDlUEwe"
      },
      "source": [
        "def decode_and_print_ordered_one_hot(prediction_matrix, corpus):\n",
        "  sent = [\"\"]*np.shape(prediction_matrix)[0]\n",
        "\n",
        "  for i in range(np.shape(prediction_matrix)[0]):\n",
        "    for j in range(np.shape(prediction_matrix)[1]):\n",
        "      if prediction_matrx[i,j] == 1.0:\n",
        "        sent[i] = corpus[j]\n",
        "\n",
        "  sentence = \"\"\n",
        "  for word in sent:\n",
        "    sentence = sentence + word + \" \"\n",
        "\n",
        "  return sentence"
      ],
      "execution_count": null,
      "outputs": []
    },
    {
      "cell_type": "code",
      "metadata": {
        "id": "KhtAlo6XVFLg"
      },
      "source": [
        "def generate_and_save(model, epoch, test_input):\n",
        "    # Notice 'training' is set to False.\n",
        "    # This is so all layers run in inference mode (batchnorm).\n",
        "    predictions = model(test_input, training=False)\n",
        "\n",
        "    for i in range(predictions.shape[0]):\n",
        "        decoded_sent = predictions[i,:,0]\n",
        "\n",
        "        # Resizing:\n",
        "        decoded_sent = 0.5*(decoded_sent + 1) * len(Pro_Lyrics_corpus_english)\n",
        "\n",
        "        #sentence = decode_and_print_ordered_one_hot(ordered_one_hot_rectifier(decoded_sent, 0.1), Pro_Lyrics_corpus_english)\n",
        "        sentence = decode_and_print(rectifier(decoded_sent, len(Pro_Lyrics_corpus_english)), Pro_Lyrics_corpus_english)\n",
        "        print(sentence)\n",
        "        print()\n",
        "\n",
        "\n",
        "        # Save the sentences/lines here?"
      ],
      "execution_count": null,
      "outputs": []
    },
    {
      "cell_type": "markdown",
      "metadata": {
        "id": "hcPHJv-4s4yn"
      },
      "source": [
        "# **Instantiating Models, Initial Tests**"
      ]
    },
    {
      "cell_type": "code",
      "metadata": {
        "colab": {
          "base_uri": "https://localhost:8080/"
        },
        "id": "XAfDYRsHU8HA",
        "outputId": "5ef9c178-9b8b-4d9b-d413-3a1e69c54857"
      },
      "source": [
        "encoder = make_encoder()\n",
        "decoder = make_decoder()\n",
        "test_input = np.array(list(range(100)))\n",
        "\n",
        "# decoder needs (None,100) as input:\n",
        "test_input = tf.expand_dims(test_input, axis = 0)\n",
        "test_output = decoder(test_input)\n",
        "\n",
        "# Resizing:\n",
        "test_output = 0.5*(test_output + 1) * len(Pro_Lyrics_corpus_english)\n",
        "\n",
        "# want output shape to be [1, 8, 1]:\n",
        "test_output.shape"
      ],
      "execution_count": null,
      "outputs": [
        {
          "output_type": "execute_result",
          "data": {
            "text/plain": [
              "TensorShape([1, 8, 1])"
            ]
          },
          "metadata": {
            "tags": []
          },
          "execution_count": 26
        }
      ]
    },
    {
      "cell_type": "code",
      "metadata": {
        "colab": {
          "base_uri": "https://localhost:8080/"
        },
        "id": "WrvHD1WLVAQw",
        "outputId": "5bba293a-2070-483a-8a2d-4b9092748d8c"
      },
      "source": [
        "test_output"
      ],
      "execution_count": null,
      "outputs": [
        {
          "output_type": "execute_result",
          "data": {
            "text/plain": [
              "<tf.Tensor: shape=(1, 8, 1), dtype=float32, numpy=\n",
              "array([[[15847.129],\n",
              "        [15868.886],\n",
              "        [15882.329],\n",
              "        [15904.282],\n",
              "        [15936.86 ],\n",
              "        [15979.769],\n",
              "        [16032.119],\n",
              "        [16092.548]]], dtype=float32)>"
            ]
          },
          "metadata": {
            "tags": []
          },
          "execution_count": 27
        }
      ]
    },
    {
      "cell_type": "code",
      "metadata": {
        "colab": {
          "base_uri": "https://localhost:8080/"
        },
        "id": "1BvM_7x1VVj1",
        "outputId": "4c6b7367-5efc-4f6a-fc4f-57dd71fbc320"
      },
      "source": [
        "\n",
        "discriminator1 = make_discriminator_model1(0.0001, 0.3)   # Dropout was 0.3 earlier\n",
        "\n",
        "noise = tf.random.normal([1, 100])\n",
        "\n",
        "S = decoder(noise, training=False)\n",
        "\n",
        "decision1 = discriminator1(S)\n",
        "\n",
        "print(np.array(decision1)[0][0])  #, np.array(decision2)[0][0], np.array(decision3)[0][0])\n",
        "print()\n"
      ],
      "execution_count": null,
      "outputs": [
        {
          "output_type": "stream",
          "text": [
            "-2.1017795e-05\n",
            "\n"
          ],
          "name": "stdout"
        }
      ]
    },
    {
      "cell_type": "code",
      "metadata": {
        "colab": {
          "base_uri": "https://localhost:8080/"
        },
        "id": "5vcp9TpYVATH",
        "outputId": "6b48ede7-9695-4964-8e0e-2ca503239b8e"
      },
      "source": [
        "# A test of decoder(encoder):\n",
        "\n",
        "ex_sent = new_train_sents_english[10543]\n",
        "sentence = \"\"\n",
        "for word_index in ex_sent:\n",
        "  sentence = sentence + \" \" + Pro_Lyrics_corpus_english[word_index]\n",
        "print(ex_sent)\n",
        "print(sentence)\n",
        "\n",
        "# NOTE: we should be padding with 1059, not 0! 1059 corresponds to \"\"!\n",
        "ex_sent = ex_sent + [1059.0]*(8-len(ex_sent))\n",
        "# note: we have to make this floats and pad with floats.\n",
        "ex_sent = np.array(ex_sent).astype(float)\n",
        "\n",
        "ex_sent = tf.expand_dims(ex_sent, axis = -1)\n",
        "ex_sent = tf.expand_dims(ex_sent, axis = 0) #?\n",
        "\n",
        "test_output2 = decoder(encoder(ex_sent))\n",
        "\n",
        "# Resizing:\n",
        "test_output2 = 0.5*(test_output2 + 1) * len(Pro_Lyrics_corpus_english)\n",
        "\n",
        "print(test_output2)\n",
        "print()\n",
        "print(rectifier(test_output2, len(Pro_Lyrics_corpus_english)))\n",
        "print()\n",
        "result = decode_and_print(rectifier(test_output2, len(Pro_Lyrics_corpus_english)), Pro_Lyrics_corpus_english)\n",
        "print(result)"
      ],
      "execution_count": null,
      "outputs": [
        {
          "output_type": "stream",
          "text": [
            "[4463, 278, 2733]\n",
            " immortal power surge\n",
            "tf.Tensor(\n",
            "[[[15742.611]\n",
            "  [15739.443]\n",
            "  [15736.135]\n",
            "  [15732.869]\n",
            "  [15729.639]\n",
            "  [15726.395]\n",
            "  [15723.1  ]\n",
            "  [15719.75 ]]], shape=(1, 8, 1), dtype=float32)\n",
            "\n",
            "[[[15743]\n",
            "  [15739]\n",
            "  [15736]\n",
            "  [15733]\n",
            "  [15730]\n",
            "  [15726]\n",
            "  [15723]\n",
            "  [15720]]]\n",
            "\n",
            "introversion pontoon squid prophylactic clam calorie venal territorial \n"
          ],
          "name": "stdout"
        }
      ]
    },
    {
      "cell_type": "markdown",
      "metadata": {
        "id": "WxnJ3AGKtAlb"
      },
      "source": [
        "# **Learning Rate Scheduling and Optimizers**"
      ]
    },
    {
      "cell_type": "code",
      "metadata": {
        "id": "1PlAjCI_VAVq"
      },
      "source": [
        "lr_schedule = tfa.optimizers.ExponentialCyclicalLearningRate(initial_learning_rate=1e-4,\n",
        "                                                             maximal_learning_rate=1e-3,\n",
        "                                                             step_size=2000,\n",
        "                                                             scale_mode=\"cycle\",\n",
        "                                                             gamma=0.96,\n",
        "                                                             name=\"MyCyclicScheduler\")\n",
        "\n",
        "encoderdecoder_optimizer = tf.keras.optimizers.Adam(learning_rate=lr_schedule)\n",
        "discriminator_optimizer1 = RMSprop(learning_rate=lr_schedule)\n",
        "\n",
        "import os\n",
        "checkpoint_dir = './training_checkpoints'\n",
        "checkpoint_prefix = os.path.join(checkpoint_dir, \"ckpt\")\n",
        "checkpoint = tf.train.Checkpoint(encoderdecoder_optimizer=encoderdecoder_optimizer,\n",
        "                                 discriminator_optimizer1=discriminator_optimizer1,\n",
        "                                 discriminator1=discriminator1,\n",
        "                                 encoder=encoder,\n",
        "                                 decoder=decoder)"
      ],
      "execution_count": null,
      "outputs": []
    },
    {
      "cell_type": "code",
      "metadata": {
        "colab": {
          "base_uri": "https://localhost:8080/",
          "height": 592
        },
        "id": "-sdW5ejFyzV_",
        "outputId": "f27a77ad-72be-448d-ff92-80ba94631678"
      },
      "source": [
        "# Plotting the learning rate:\n",
        "\n",
        "length = EPOCHS * len(train_dataset)\n",
        "\n",
        "y = [0] * length\n",
        "for step in range(length):\n",
        "  y[step] = lr_schedule.__call__(step)\n",
        "\n",
        "plt.figure(figsize=(10,10))\n",
        "\n",
        "plt.plot(y)\n",
        "plt.show()"
      ],
      "execution_count": null,
      "outputs": [
        {
          "output_type": "display_data",
          "data": {
            "image/png": "[encoded data removed]",
            "text/plain": [
              "<Figure size 720x720 with 1 Axes>"
            ]
          },
          "metadata": {
            "tags": []
          }
        }
      ]
    },
    {
      "cell_type": "markdown",
      "metadata": {
        "id": "4xCTwQyRtHol"
      },
      "source": [
        "# **Training**"
      ]
    },
    {
      "cell_type": "code",
      "metadata": {
        "colab": {
          "base_uri": "https://localhost:8080/"
        },
        "id": "6IUM8FRLVFJE",
        "outputId": "a236ce37-4414-4ea2-e448-f75aa52f3430"
      },
      "source": [
        "c_hist, c_r_hist, c_f_hist, ed_hist = train(train_dataset, EPOCHS)"
      ],
      "execution_count": null,
      "outputs": [
        {
          "output_type": "stream",
          "text": [
            ">1, c1=9.870, c1r=2.303, c1f=-2.431, ed=4.420\n",
            ">1001, c1=-7845.005, c1r=-38.629, c1f=-7810.736, ed=24548306.000\n",
            ">2001, c1=-13209.562, c1r=-53.527, c1f=-13156.755, ed=178587696.000\n",
            ">3001, c1=-19526.400, c1r=-113.607, c1f=-19415.863, ed=234833440.000\n",
            ">4001, c1=-23257.916, c1r=-243.823, c1f=-23018.316, ed=308300832.000\n",
            ">5001, c1=-402.982, c1r=-7503.743, c1f=7098.482, ed=265581072.000\n",
            ">6001, c1=-314.862, c1r=-5266.324, c1f=4950.036, ed=72275192.000\n",
            ">7001, c1=-474.916, c1r=-6019.918, c1f=5540.865, ed=108056064.000\n",
            ">8001, c1=-625.620, c1r=-6620.802, c1f=5985.205, ed=132560016.000\n",
            "eschatological chi remodify infinitely vint suggesting excess genetics \n",
            "\n",
            "industrious geest crafty languish quagmire iris hedging spittle \n",
            "\n",
            "indrawn libel starboard salutation ectogenesis trepidation culture loophole \n",
            "\n",
            "hesitating hardhearted copping counter upsetting checked inherent assertiveness \n",
            "\n",
            "Time for epoch 1 is 557.767760515213 sec\n",
            ">9001, c1=-388.868, c1r=-6497.914, c1f=6106.235, ed=176467104.000\n",
            ">10001, c1=-56538.426, c1r=-32.824, c1f=-56592.680, ed=2929108480.000\n",
            ">11001, c1=-71265.008, c1r=-837.674, c1f=-70515.734, ed=2588423424.000\n",
            ">12001, c1=-75590.547, c1r=-322.667, c1f=-75441.383, ed=4026419456.000\n",
            ">13001, c1=-75977.062, c1r=-632.074, c1f=-75550.078, ed=6752427520.000\n",
            ">14001, c1=-80571.328, c1r=-1065.496, c1f=-79707.398, ed=5032429056.000\n",
            ">15001, c1=-81031.453, c1r=-549.159, c1f=-80826.789, ed=4215107328.000\n",
            ">16001, c1=-77153.672, c1r=-1098.558, c1f=-76437.789, ed=4926215168.000\n",
            ">17001, c1=-91399.633, c1r=-2054.925, c1f=-89766.289, ed=5519484416.000\n",
            "figaro spank seamed modification fatuous cree uprising mansion \n",
            "\n",
            "halse accelerated sparkling hear consuming purpose shell empty \n",
            "\n",
            "fortuneteller thou lane ruthless burn gore consuming gore \n",
            "\n",
            "mala bishop plate devour inside weight union union \n",
            "\n",
            "Time for epoch 2 is 528.9753158092499 sec\n",
            ">18001, c1=-82327.141, c1r=-1951.091, c1f=-80694.438, ed=8260233728.000\n",
            ">19001, c1=-84486.359, c1r=-1061.244, c1f=-83655.102, ed=4162635776.000\n",
            ">20001, c1=-93411.266, c1r=-1999.228, c1f=-91995.469, ed=6058970112.000\n",
            ">21001, c1=-93366.109, c1r=-2316.746, c1f=-91769.812, ed=8668693504.000\n",
            ">22001, c1=-93561.586, c1r=-366.543, c1f=-93880.109, ed=5865649664.000\n",
            ">23001, c1=-95024.984, c1r=-1995.786, c1f=-93877.906, ed=9842733056.000\n",
            ">24001, c1=-94386.055, c1r=-2526.459, c1f=-92447.289, ed=10953446400.000\n",
            ">25001, c1=-105996.672, c1r=-4155.145, c1f=-102539.164, ed=9122746368.000\n",
            ">26001, c1=-68801.539, c1r=-1246.063, c1f=-68247.438, ed=11780870144.000\n",
            "giantly gel archon handful perception electronics range dried \n",
            "\n",
            "bridle poltergeist yard window kiss drop amt pardon \n",
            "\n",
            "mouthful executed doorway grange shore commemorate stop wrong \n",
            "\n",
            "iridium shadowed amuse buzzing wax moving glass gap \n",
            "\n",
            "Time for epoch 3 is 521.9065752029419 sec\n",
            ">27001, c1=-91499.188, c1r=-3645.277, c1f=-88868.625, ed=10767483904.000\n",
            ">28001, c1=-92332.195, c1r=-1685.617, c1f=-91206.234, ed=13636710400.000\n",
            ">29001, c1=-90669.984, c1r=-2767.895, c1f=-89089.852, ed=10849019904.000\n",
            ">30001, c1=-92983.922, c1r=-5216.644, c1f=-88373.594, ed=14526276608.000\n",
            ">31001, c1=-90955.109, c1r=670.300, c1f=-92913.461, ed=14174091264.000\n",
            ">32001, c1=-92306.305, c1r=-1233.254, c1f=-92460.211, ed=13722418176.000\n",
            ">33001, c1=-100869.641, c1r=-7552.060, c1f=-94562.875, ed=14686935040.000\n",
            ">34001, c1=-90554.609, c1r=-5518.276, c1f=-86523.922, ed=15645943808.000\n",
            "unjustly claro vaunting vanguard turbulence shamefully shove sip \n",
            "\n",
            "invigorating myopic laceration rhythm pollution dozen messing talk \n",
            "\n",
            "marco viciousness clad store fake faced fireball mile \n",
            "\n",
            "paleface berlin scholar neglect conceal sugar cruise showing \n",
            "\n",
            "Time for epoch 4 is 516.0025088787079 sec\n",
            ">35001, c1=-83843.836, c1r=494.076, c1f=-85885.227, ed=14289810432.000\n",
            ">36001, c1=-97011.352, c1r=-2928.026, c1f=-95360.578, ed=19305095168.000\n",
            ">37001, c1=-101101.977, c1r=-6432.209, c1f=-96362.336, ed=16503689216.000\n",
            ">38001, c1=-102893.562, c1r=-4280.549, c1f=-99505.516, ed=20551688192.000\n",
            ">39001, c1=-97876.641, c1r=-4143.636, c1f=-95782.672, ed=17429676032.000\n",
            ">40001, c1=-93887.797, c1r=-6755.698, c1f=-88771.578, ed=19953590272.000\n",
            ">41001, c1=-104087.492, c1r=-9284.310, c1f=-97009.148, ed=28106469376.000\n",
            ">42001, c1=-98243.797, c1r=-10082.529, c1f=-89885.164, ed=25113866240.000\n",
            ">43001, c1=-99277.641, c1r=-6114.462, c1f=-95050.312, ed=22904008704.000\n",
            "employment humidity hing crusted thight industrial sparrow regretfulness \n",
            "\n",
            "semblant dilution calamity whitely composed frailty sneak sewn \n",
            "\n",
            "snakelike torturer industrial slept pave jazz untill unsettled \n",
            "\n",
            "celebrant musk medieval mere poise deceiver fra proceed \n",
            "\n",
            "Time for epoch 5 is 515.5525915622711 sec\n",
            ">44001, c1=-95305.555, c1r=-7536.038, c1f=-89916.094, ed=31427528704.000\n",
            ">45001, c1=-92347.766, c1r=-6723.967, c1f=-88085.062, ed=27852288000.000\n",
            ">46001, c1=-93826.367, c1r=-4016.722, c1f=-92336.938, ed=30720751616.000\n",
            ">47001, c1=-103663.008, c1r=-7434.277, c1f=-98524.398, ed=29891715072.000\n",
            ">48001, c1=-96430.766, c1r=-9848.669, c1f=-88328.852, ed=23181670400.000\n",
            ">49001, c1=-91834.742, c1r=-5678.162, c1f=-87932.445, ed=36963287040.000\n",
            ">50001, c1=-91057.109, c1r=-3277.294, c1f=-90574.891, ed=36541214720.000\n",
            ">51001, c1=-88405.766, c1r=-4260.657, c1f=-86653.719, ed=37675646976.000\n",
            ">52001, c1=-90802.891, c1r=-7553.711, c1f=-85850.508, ed=36368236544.000\n",
            "iterate jeopardy misalignment vinyl gym reconquest disappearing falsify \n",
            "\n",
            "deform equestrian artfully ratio breach oak grail rerun \n",
            "\n",
            "odel parker nim disk girder eroded reindeer surging \n",
            "\n",
            "pater hysterectomy nude tradition unbeliever disintegration annoying supping \n",
            "\n",
            "Time for epoch 6 is 512.5936050415039 sec\n",
            ">53001, c1=-86019.336, c1r=-12298.739, c1f=-76725.125, ed=39338147840.000\n",
            ">54001, c1=-82829.586, c1r=-5956.072, c1f=-79583.391, ed=39539826688.000\n",
            ">55001, c1=-77997.672, c1r=-7581.433, c1f=-73562.859, ed=38892187648.000\n",
            ">56001, c1=-87313.867, c1r=-8001.132, c1f=-82147.586, ed=48482054144.000\n",
            ">57001, c1=-84828.078, c1r=-8508.356, c1f=-79542.500, ed=42297860096.000\n",
            ">58001, c1=-91514.727, c1r=-2986.422, c1f=-91475.438, ed=44831158272.000\n",
            ">59001, c1=-78030.930, c1r=-7601.833, c1f=-73016.336, ed=39290363904.000\n",
            ">60001, c1=-90898.953, c1r=-12776.874, c1f=-81193.703, ed=50174418944.000\n",
            ">61001, c1=-70283.258, c1r=-4332.146, c1f=-68628.383, ed=49035714560.000\n",
            "styling outdo regulated ordain martial plier denude tipping \n",
            "\n",
            "aristocrat tipped reconstruct recent umbilical anda terrible caw \n",
            "\n",
            "purblind sixer circulation redness sullen ion unqualified exemplar \n",
            "\n",
            "income aspirant streaked momentary rationality unde zombie terry \n",
            "\n",
            "Time for epoch 7 is 513.8074131011963 sec\n",
            ">62001, c1=-62023.570, c1r=102.101, c1f=-65682.117, ed=52281753600.000\n",
            ">63001, c1=-73719.891, c1r=-5129.214, c1f=-72225.953, ed=52250292224.000\n",
            ">64001, c1=-66092.570, c1r=-7350.534, c1f=-62435.957, ed=46446096384.000\n",
            ">65001, c1=-67419.016, c1r=-7304.944, c1f=-62995.918, ed=42439630848.000\n",
            ">66001, c1=-77362.734, c1r=-6328.823, c1f=-74843.758, ed=51284475904.000\n",
            ">67001, c1=-78356.633, c1r=-4485.302, c1f=-77271.172, ed=60302553088.000\n",
            ">68001, c1=-78992.797, c1r=-9316.938, c1f=-73148.234, ed=54244130816.000\n",
            ">69001, c1=-71212.930, c1r=-3737.816, c1f=-71492.531, ed=60532547584.000\n",
            "visita bleached floodlight sufficiently unclothe disclosed dampen drapery \n",
            "\n",
            "aristocrat siesta tourette exciter scented indent calamity weaver \n",
            "\n",
            "warped proclamation thump lasher glacier dethrone geomagnetic grudge \n",
            "\n",
            "trot hag anchorless reincarnation fiddler scour valhall dreamlike \n",
            "\n",
            "Time for epoch 8 is 512.297069311142 sec\n",
            ">70001, c1=-81760.734, c1r=-6009.257, c1f=-78859.414, ed=51967913984.000\n",
            ">71001, c1=-77908.484, c1r=-8668.472, c1f=-73308.648, ed=56532361216.000\n",
            ">72001, c1=-79234.547, c1r=-4904.301, c1f=-77533.898, ed=65489371136.000\n",
            ">73001, c1=-69351.047, c1r=-7682.103, c1f=-65348.793, ed=67954921472.000\n",
            ">74001, c1=-83014.422, c1r=-16384.736, c1f=-70387.461, ed=66045067264.000\n",
            ">75001, c1=-90251.922, c1r=-14058.453, c1f=-79521.922, ed=58271666176.000\n",
            ">76001, c1=-56695.574, c1r=-6761.433, c1f=-53801.875, ed=56484655104.000\n",
            ">77001, c1=-83946.766, c1r=-6102.104, c1f=-82278.391, ed=70627360768.000\n",
            ">78001, c1=-75930.414, c1r=-13849.192, c1f=-66516.859, ed=69973876736.000\n",
            "turnstile topped introversion expressly wang discipleship stormbound invoker \n",
            "\n",
            "bombination drilling paled porch assign twinkle darkly mythical \n",
            "\n",
            "speer bloat profiteering horoscope assembly glove antelope squarely \n",
            "\n",
            "bartender globule rash hover insipid serum stary regular \n",
            "\n",
            "Time for epoch 9 is 505.1660885810852 sec\n",
            ">79001, c1=-84013.938, c1r=-10906.001, c1f=-77676.672, ed=69591867392.000\n",
            ">80001, c1=-75664.289, c1r=-9911.193, c1f=-70346.547, ed=65514688512.000\n",
            ">81001, c1=-64246.438, c1r=-8868.646, c1f=-60073.367, ed=69135679488.000\n",
            ">82001, c1=-78241.242, c1r=-11149.460, c1f=-71822.180, ed=62657642496.000\n",
            ">83001, c1=-78932.289, c1r=-11165.829, c1f=-71427.086, ed=62726352896.000\n",
            ">84001, c1=-91882.070, c1r=-18155.016, c1f=-78069.828, ed=79469707264.000\n",
            ">85001, c1=-70027.672, c1r=-8549.394, c1f=-65906.469, ed=69812297728.000\n",
            ">86001, c1=-79550.406, c1r=-14695.750, c1f=-69833.180, ed=74724671488.000\n",
            ">87001, c1=-71126.289, c1r=-15179.045, c1f=-61005.773, ed=83709288448.000\n",
            "reassured changeable genital freshness headphone argentine sharded propagate \n",
            "\n",
            "peachy chessboard cartoon contribution victimize pistil lesion dependent \n",
            "\n",
            "credibility pinching wobbly impregnate converse attractive uncover spooky \n",
            "\n",
            "vocabulary tanker military contingent artful accessory ascendant humility \n",
            "\n",
            "Time for epoch 10 is 504.74862694740295 sec\n",
            "reassured changeable genital freshness headphone argentine sharded propagate \n",
            "\n",
            "peachy chessboard cartoon contribution victimize pistil lesion dependent \n",
            "\n",
            "credibility pinching wobbly impregnate converse attractive uncover spooky \n",
            "\n",
            "vocabulary tanker military contingent artful accessory ascendant humility \n",
            "\n"
          ],
          "name": "stdout"
        }
      ]
    },
    {
      "cell_type": "markdown",
      "metadata": {
        "id": "s2sCX-lCtOnn"
      },
      "source": [
        "# **Losses and Testing**"
      ]
    },
    {
      "cell_type": "code",
      "metadata": {
        "colab": {
          "base_uri": "https://localhost:8080/",
          "height": 602
        },
        "id": "hJ0oK0KxVHc1",
        "outputId": "8640119e-9a51-4965-9863-2e8bac142a8d"
      },
      "source": [
        "# Plotting ED loss:\n",
        "\n",
        "plt.figure(figsize=(10,10))\n",
        "\n",
        "plt.plot(ed_hist, label=\"Encoder/Decoder loss\")\n",
        "plt.legend(fontsize=14)\n",
        "\n",
        "plt.show()"
      ],
      "execution_count": null,
      "outputs": [
        {
          "output_type": "display_data",
          "data": {
            "image/png": "[encoded data removed]",
            "text/plain": [
              "<Figure size 720x720 with 1 Axes>"
            ]
          },
          "metadata": {
            "tags": []
          }
        }
      ]
    },
    {
      "cell_type": "code",
      "metadata": {
        "id": "bQpDwVKsfs5y",
        "colab": {
          "base_uri": "https://localhost:8080/",
          "height": 592
        },
        "outputId": "20ee1caa-35bf-4ad3-d195-c9c9db6a2f34"
      },
      "source": [
        "# Plotting discriminator losses:\n",
        "\n",
        "plt.figure(figsize=(10,10))\n",
        "\n",
        "plt.plot(c_hist, label=\"Critic total loss\")\n",
        "plt.plot(c_r_hist, label=\"Critic real loss\")\n",
        "plt.plot(c_f_hist, label=\"Critic fake loss\")\n",
        "plt.legend(fontsize=14)\n",
        "\n",
        "plt.show()"
      ],
      "execution_count": null,
      "outputs": [
        {
          "output_type": "display_data",
          "data": {
            "image/png": "[encoded data removed]",
            "text/plain": [
              "<Figure size 720x720 with 1 Axes>"
            ]
          },
          "metadata": {
            "tags": []
          }
        }
      ]
    },
    {
      "cell_type": "code",
      "metadata": {
        "id": "n6k6koyXVHfO"
      },
      "source": [
        "# This shows some periodic behavior, possibly due to our cyclic learning rate. How to adjust?"
      ],
      "execution_count": null,
      "outputs": []
    },
    {
      "cell_type": "code",
      "metadata": {
        "colab": {
          "base_uri": "https://localhost:8080/"
        },
        "id": "TT3Z5jHRVMcf",
        "outputId": "271179e3-23ce-476c-98b3-a711ed33faff"
      },
      "source": [
        "# A test of the trained decoder(encoder):\n",
        "\n",
        "ex_sent = new_train_sents_english[10543]\n",
        "sentence = \"\"\n",
        "for word_index in ex_sent:\n",
        "  sentence = sentence + \" \" + Pro_Lyrics_corpus_english[word_index]\n",
        "print(ex_sent)\n",
        "print(sentence)\n",
        "\n",
        "\n",
        "# NOTE: we should be padding with 1059, not 0! 1059 corresponds to \"\"!\n",
        "ex_sent = ex_sent + [1059.0]*(8 - len(ex_sent))\n",
        "# note: we have to make this floats and pad with floats.\n",
        "ex_sent = np.array(ex_sent).astype(float)\n",
        "\n",
        "ex_sent = tf.expand_dims(ex_sent, axis = -1)\n",
        "ex_sent = tf.expand_dims(ex_sent, axis = 0) #?\n",
        "\n",
        "test_output2 = decoder(encoder(ex_sent))\n",
        "\n",
        "# Resizing:\n",
        "test_output2 = 0.5*(test_output2 + 1) * len(Pro_Lyrics_corpus_english)\n",
        "\n",
        "print(test_output2)\n",
        "print()\n",
        "print(rectifier(test_output2, len(Pro_Lyrics_corpus_english)))\n",
        "print()\n",
        "result = decode_and_print(rectifier(test_output2, len(Pro_Lyrics_corpus_english)), Pro_Lyrics_corpus_english)\n",
        "print(result)"
      ],
      "execution_count": null,
      "outputs": [
        {
          "output_type": "stream",
          "text": [
            "[4463, 278, 2733]\n",
            " immortal power surge\n",
            "tf.Tensor(\n",
            "[[[14368.298 ]\n",
            "  [13319.3   ]\n",
            "  [12101.943 ]\n",
            "  [11396.9795]\n",
            "  [10894.483 ]\n",
            "  [10479.479 ]\n",
            "  [10330.242 ]\n",
            "  [10220.517 ]]], shape=(1, 8, 1), dtype=float32)\n",
            "\n",
            "[[[14368]\n",
            "  [13319]\n",
            "  [12102]\n",
            "  [11397]\n",
            "  [10894]\n",
            "  [10479]\n",
            "  [10330]\n",
            "  [10221]]]\n",
            "\n",
            "imaginate mosque windowpane flawlessly bloodstain curiously coexistence yellowish \n"
          ],
          "name": "stdout"
        }
      ]
    },
    {
      "cell_type": "markdown",
      "metadata": {
        "id": "B0TZTo1mtT2E"
      },
      "source": [
        "# **Saving Models**"
      ]
    },
    {
      "cell_type": "code",
      "metadata": {
        "id": "DunFf04nVMfA"
      },
      "source": [
        "# SAVE the encoder/decoder models here:\n",
        "\n",
        "encoder.save('/content/drive/MyDrive/NLP bootcamp project/softgan models/encoder.h5')\n",
        "decoder.save('/content/drive/MyDrive/NLP bootcamp project/softgan models/decoder.h5')\n"
      ],
      "execution_count": null,
      "outputs": []
    },
    {
      "cell_type": "code",
      "metadata": {
        "id": "Qq1Z9Bl6VaGT"
      },
      "source": [
        "# SAVE the generator/discriminator here:\n",
        "\n",
        "discriminator1.save('/content/drive/MyDrive/NLP bootcamp project/softgan models/discriminator1.h5')"
      ],
      "execution_count": null,
      "outputs": []
    },
    {
      "cell_type": "code",
      "metadata": {
        "id": "ov3cs1U7VaI8"
      },
      "source": [
        ""
      ],
      "execution_count": null,
      "outputs": []
    }
  ]
}