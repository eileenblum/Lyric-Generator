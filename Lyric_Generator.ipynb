{
  "nbformat": 4,
  "nbformat_minor": 0,
  "metadata": {
    "accelerator": "GPU",
    "colab": {
      "name": "Lyric Generator.ipynb",
      "provenance": [],
      "collapsed_sections": [],
      "include_colab_link": true
    },
    "kernelspec": {
      "display_name": "Python 3",
      "name": "python3"
    },
    "language_info": {
      "name": "python"
    }
  },
  "cells": [
    {
      "cell_type": "markdown",
      "metadata": {
        "id": "view-in-github",
        "colab_type": "text"
      },
      "source": [
        "<a href=\"https://colab.research.google.com/github/eileenblum/Lyric-Generator/blob/main/Lyric_Generator.ipynb\" target=\"_parent\"><img src=\"https://colab.research.google.com/assets/colab-badge.svg\" alt=\"Open In Colab\"/></a>"
      ]
    },
    {
      "cell_type": "code",
      "metadata": {
        "colab": {
          "base_uri": "https://localhost:8080/"
        },
        "id": "9Iml2eST_QR3",
        "outputId": "0f680274-84e1-46bd-ce8e-53fe2ac5e62b"
      },
      "source": [
        "from google.colab import drive\n",
        "drive.mount('/content/drive')"
      ],
      "execution_count": null,
      "outputs": [
        {
          "output_type": "stream",
          "text": [
            "Mounted at /content/drive\n"
          ],
          "name": "stdout"
        }
      ]
    },
    {
      "cell_type": "markdown",
      "metadata": {
        "id": "FEqBQLtJR0wX"
      },
      "source": [
        "References:\n",
        "*   Arjovsky, M., Chintala, S., & Bottou, L. (2017). Wasserstein generative adversarial networks. In International conference on machine learning (pp. 214-223). PMLR.\n",
        "*   Donahue, D., & Rumshisky, A. (2018). Adversarial text generation without reinforcement learning. arXiv preprint arXiv:1810.06640.\n",
        "* Gulrajani, I., Ahmed, F., Arjovsky, M., Dumoulin, V., & Courville, A. (2017). Improved training of wasserstein gans. arXiv preprint arXiv:1704.00028.\n",
        "*   Haidar, M., Rezagholizadeh, M., Do-Omri, A., & Rashid, A. (2019). Latent code and text-based generative adversarial networks for soft-text generation. arXiv preprint arXiv:1904.07293.\n",
        "*   Hochreiter, S., & Schmidhuber, J. (1997). Long short-term memory. Neural computation, 9(8), 1735-1780.\n",
        "*   Radford, A., Metz, L., & Chintala, S. (2015). Unsupervised representation learning with deep convolutional generative adversarial networks. arXiv preprint arXiv:1511.06434.\n",
        "\n",
        "\n",
        "\n",
        "\n",
        "\n"
      ]
    },
    {
      "cell_type": "code",
      "metadata": {
        "colab": {
          "base_uri": "https://localhost:8080/"
        },
        "id": "MiPDV1M_ejns",
        "outputId": "9a811d05-3bb8-45b0-f0b1-3eb4bb998270"
      },
      "source": [
        "\n",
        "import pandas as pd\n",
        "import numpy as np\n",
        "import os\n",
        "import string\n",
        "import nltk\n",
        "import matplotlib.pyplot as plt\n",
        "import seaborn as sns\n",
        "\n",
        "### New:\n",
        "import tensorflow as tf\n",
        "\n",
        "from numpy import expand_dims\n",
        "from numpy import mean\n",
        "from numpy import ones\n",
        "from numpy.random import randn\n",
        "from numpy.random import randint\n",
        "from tensorflow.keras import layers\n",
        "import time \n",
        "\n",
        "from keras import backend\n",
        "from keras.optimizers import RMSprop\n",
        "from keras.initializers import RandomNormal\n",
        "from keras.layers import BatchNormalization\n",
        "\n",
        "!pip install tensorflow_addons\n",
        "\n",
        "import tensorflow_addons as tfa\n",
        "from IPython import display\n",
        "###\n",
        "\n",
        "from nltk.stem import WordNetLemmatizer\n",
        "from nltk.corpus import abc\n",
        "from nltk.corpus import stopwords\n",
        "from textblob import Word\n",
        "sns.set_style(\"whitegrid\")\n"
      ],
      "execution_count": null,
      "outputs": [
        {
          "output_type": "stream",
          "text": [
            "Collecting tensorflow_addons\n",
            "\u001b[?25l  Downloading https://files.pythonhosted.org/packages/74/e3/56d2fe76f0bb7c88ed9b2a6a557e25e83e252aec08f13de34369cd850a0b/tensorflow_addons-0.12.1-cp37-cp37m-manylinux2010_x86_64.whl (703kB)\n",
            "\r\u001b[K     |▌                               | 10kB 17.6MB/s eta 0:00:01\r\u001b[K     |█                               | 20kB 24.7MB/s eta 0:00:01\r\u001b[K     |█▍                              | 30kB 26.8MB/s eta 0:00:01\r\u001b[K     |█▉                              | 40kB 19.0MB/s eta 0:00:01\r\u001b[K     |██▎                             | 51kB 8.5MB/s eta 0:00:01\r\u001b[K     |██▉                             | 61kB 9.8MB/s eta 0:00:01\r\u001b[K     |███▎                            | 71kB 9.1MB/s eta 0:00:01\r\u001b[K     |███▊                            | 81kB 9.9MB/s eta 0:00:01\r\u001b[K     |████▏                           | 92kB 10.5MB/s eta 0:00:01\r\u001b[K     |████▋                           | 102kB 8.1MB/s eta 0:00:01\r\u001b[K     |█████▏                          | 112kB 8.1MB/s eta 0:00:01\r\u001b[K     |█████▋                          | 122kB 8.1MB/s eta 0:00:01\r\u001b[K     |██████                          | 133kB 8.1MB/s eta 0:00:01\r\u001b[K     |██████▌                         | 143kB 8.1MB/s eta 0:00:01\r\u001b[K     |███████                         | 153kB 8.1MB/s eta 0:00:01\r\u001b[K     |███████▌                        | 163kB 8.1MB/s eta 0:00:01\r\u001b[K     |████████                        | 174kB 8.1MB/s eta 0:00:01\r\u001b[K     |████████▍                       | 184kB 8.1MB/s eta 0:00:01\r\u001b[K     |████████▉                       | 194kB 8.1MB/s eta 0:00:01\r\u001b[K     |█████████▎                      | 204kB 8.1MB/s eta 0:00:01\r\u001b[K     |█████████▉                      | 215kB 8.1MB/s eta 0:00:01\r\u001b[K     |██████████▎                     | 225kB 8.1MB/s eta 0:00:01\r\u001b[K     |██████████▊                     | 235kB 8.1MB/s eta 0:00:01\r\u001b[K     |███████████▏                    | 245kB 8.1MB/s eta 0:00:01\r\u001b[K     |███████████▋                    | 256kB 8.1MB/s eta 0:00:01\r\u001b[K     |████████████▏                   | 266kB 8.1MB/s eta 0:00:01\r\u001b[K     |████████████▋                   | 276kB 8.1MB/s eta 0:00:01\r\u001b[K     |█████████████                   | 286kB 8.1MB/s eta 0:00:01\r\u001b[K     |█████████████▌                  | 296kB 8.1MB/s eta 0:00:01\r\u001b[K     |██████████████                  | 307kB 8.1MB/s eta 0:00:01\r\u001b[K     |██████████████▍                 | 317kB 8.1MB/s eta 0:00:01\r\u001b[K     |███████████████                 | 327kB 8.1MB/s eta 0:00:01\r\u001b[K     |███████████████▍                | 337kB 8.1MB/s eta 0:00:01\r\u001b[K     |███████████████▉                | 348kB 8.1MB/s eta 0:00:01\r\u001b[K     |████████████████▎               | 358kB 8.1MB/s eta 0:00:01\r\u001b[K     |████████████████▊               | 368kB 8.1MB/s eta 0:00:01\r\u001b[K     |█████████████████▎              | 378kB 8.1MB/s eta 0:00:01\r\u001b[K     |█████████████████▊              | 389kB 8.1MB/s eta 0:00:01\r\u001b[K     |██████████████████▏             | 399kB 8.1MB/s eta 0:00:01\r\u001b[K     |██████████████████▋             | 409kB 8.1MB/s eta 0:00:01\r\u001b[K     |███████████████████             | 419kB 8.1MB/s eta 0:00:01\r\u001b[K     |███████████████████▋            | 430kB 8.1MB/s eta 0:00:01\r\u001b[K     |████████████████████            | 440kB 8.1MB/s eta 0:00:01\r\u001b[K     |████████████████████▌           | 450kB 8.1MB/s eta 0:00:01\r\u001b[K     |█████████████████████           | 460kB 8.1MB/s eta 0:00:01\r\u001b[K     |█████████████████████▍          | 471kB 8.1MB/s eta 0:00:01\r\u001b[K     |██████████████████████          | 481kB 8.1MB/s eta 0:00:01\r\u001b[K     |██████████████████████▍         | 491kB 8.1MB/s eta 0:00:01\r\u001b[K     |██████████████████████▉         | 501kB 8.1MB/s eta 0:00:01\r\u001b[K     |███████████████████████▎        | 512kB 8.1MB/s eta 0:00:01\r\u001b[K     |███████████████████████▊        | 522kB 8.1MB/s eta 0:00:01\r\u001b[K     |████████████████████████▎       | 532kB 8.1MB/s eta 0:00:01\r\u001b[K     |████████████████████████▊       | 542kB 8.1MB/s eta 0:00:01\r\u001b[K     |█████████████████████████▏      | 552kB 8.1MB/s eta 0:00:01\r\u001b[K     |█████████████████████████▋      | 563kB 8.1MB/s eta 0:00:01\r\u001b[K     |██████████████████████████      | 573kB 8.1MB/s eta 0:00:01\r\u001b[K     |██████████████████████████▋     | 583kB 8.1MB/s eta 0:00:01\r\u001b[K     |███████████████████████████     | 593kB 8.1MB/s eta 0:00:01\r\u001b[K     |███████████████████████████▌    | 604kB 8.1MB/s eta 0:00:01\r\u001b[K     |████████████████████████████    | 614kB 8.1MB/s eta 0:00:01\r\u001b[K     |████████████████████████████▍   | 624kB 8.1MB/s eta 0:00:01\r\u001b[K     |████████████████████████████▉   | 634kB 8.1MB/s eta 0:00:01\r\u001b[K     |█████████████████████████████▍  | 645kB 8.1MB/s eta 0:00:01\r\u001b[K     |█████████████████████████████▉  | 655kB 8.1MB/s eta 0:00:01\r\u001b[K     |██████████████████████████████▎ | 665kB 8.1MB/s eta 0:00:01\r\u001b[K     |██████████████████████████████▊ | 675kB 8.1MB/s eta 0:00:01\r\u001b[K     |███████████████████████████████▏| 686kB 8.1MB/s eta 0:00:01\r\u001b[K     |███████████████████████████████▊| 696kB 8.1MB/s eta 0:00:01\r\u001b[K     |████████████████████████████████| 706kB 8.1MB/s \n",
            "\u001b[?25hRequirement already satisfied: typeguard>=2.7 in /usr/local/lib/python3.7/dist-packages (from tensorflow_addons) (2.7.1)\n",
            "Installing collected packages: tensorflow-addons\n",
            "Successfully installed tensorflow-addons-0.12.1\n"
          ],
          "name": "stdout"
        }
      ]
    },
    {
      "cell_type": "markdown",
      "metadata": {
        "id": "sUJM1c2vdZV7"
      },
      "source": [
        "# **Data Loading**"
      ]
    },
    {
      "cell_type": "code",
      "metadata": {
        "id": "FD6eAb2xeXJf"
      },
      "source": [
        "# Use this to load the dataframe, word corpus, and word list:\n",
        "\n",
        "import pickle\n",
        "\n",
        "with open(\"/content/drive/MyDrive/NLP bootcamp project/Pro_Lyrics_corpus.txt\", \"rb\") as fp:\n",
        " Pro_Lyrics_corpus = pickle.load(fp)\n",
        "\n",
        "with open(\"/content/drive/MyDrive/NLP bootcamp project/Pro_Lyrics_corpus_english.txt\", \"rb\") as fp:\n",
        " Pro_Lyrics_corpus_english = pickle.load(fp)\n",
        "\n",
        "with open(\"/content/drive/MyDrive/NLP bootcamp project/Pro Lyrics list.txt\", \"rb\") as fp:\n",
        " Pro_Lyrics_list = pickle.load(fp)\n",
        "\n",
        "Pro_Lyrics_df = pd.read_csv(\"/content/drive/MyDrive/NLP bootcamp project/Pro_Lyrics_df.csv\")"
      ],
      "execution_count": null,
      "outputs": []
    },
    {
      "cell_type": "code",
      "metadata": {
        "colab": {
          "base_uri": "https://localhost:8080/",
          "height": 293
        },
        "id": "gLpCHoDxFZVd",
        "outputId": "a3e875ae-c825-4ce8-d3ff-8e76edc1a11e"
      },
      "source": [
        "del Pro_Lyrics_df[\"Unnamed: 0\"]\n",
        "Pro_Lyrics_df.head()"
      ],
      "execution_count": null,
      "outputs": [
        {
          "output_type": "execute_result",
          "data": {
            "text/html": [
              "<div>\n",
              "<style scoped>\n",
              "    .dataframe tbody tr th:only-of-type {\n",
              "        vertical-align: middle;\n",
              "    }\n",
              "\n",
              "    .dataframe tbody tr th {\n",
              "        vertical-align: top;\n",
              "    }\n",
              "\n",
              "    .dataframe thead th {\n",
              "        text-align: right;\n",
              "    }\n",
              "</style>\n",
              "<table border=\"1\" class=\"dataframe\">\n",
              "  <thead>\n",
              "    <tr style=\"text-align: right;\">\n",
              "      <th></th>\n",
              "      <th>song_name</th>\n",
              "      <th>lyrics</th>\n",
              "      <th>type</th>\n",
              "      <th>cleaned_lyrics</th>\n",
              "      <th>words</th>\n",
              "    </tr>\n",
              "  </thead>\n",
              "  <tbody>\n",
              "    <tr>\n",
              "      <th>0</th>\n",
              "      <td>1. The Moulting (Intro).txt</td>\n",
              "      <td>\"Throughout the fluid mass, but downward purge...</td>\n",
              "      <td>1.0</td>\n",
              "      <td>throughout fluid mass downward purged black ta...</td>\n",
              "      <td>['throughout', 'fluid', 'mass', 'downward', 'p...</td>\n",
              "    </tr>\n",
              "    <tr>\n",
              "      <th>1</th>\n",
              "      <td>3. Feed Them Hate.txt</td>\n",
              "      <td>What lies above nourishes the below. The waste...</td>\n",
              "      <td>1.0</td>\n",
              "      <td>lie nourishes waste excrement rot soil flowing...</td>\n",
              "      <td>['lie', 'nourishes', 'waste', 'excrement', 'ro...</td>\n",
              "    </tr>\n",
              "    <tr>\n",
              "      <th>2</th>\n",
              "      <td>2. Vehement Indulgences.txt</td>\n",
              "      <td>Sickening lives. Throes of squalor. Hollowed l...</td>\n",
              "      <td>1.0</td>\n",
              "      <td>sickening life throe squalor hollowed layer ab...</td>\n",
              "      <td>['sickening', 'life', 'throe', 'squalor', 'hol...</td>\n",
              "    </tr>\n",
              "    <tr>\n",
              "      <th>3</th>\n",
              "      <td>4. The Bottomless Perdition.txt</td>\n",
              "      <td>Womb of nature.\\nSpoil and ruin.\\nDeath yawn s...</td>\n",
              "      <td>1.0</td>\n",
              "      <td>womb nature\\nspoil ruin\\ndeath yawn seethes\\nf...</td>\n",
              "      <td>['womb', 'nature', 'spoil', 'ruin', 'death', '...</td>\n",
              "    </tr>\n",
              "    <tr>\n",
              "      <th>4</th>\n",
              "      <td>3. Valley Of Defilement.txt</td>\n",
              "      <td>Rotten throne.\\nCorrupted master.\\nSending the...</td>\n",
              "      <td>1.0</td>\n",
              "      <td>rotten throne\\ncorrupted master\\nsending vacuo...</td>\n",
              "      <td>['rotten', 'throne', 'corrupted', 'master', 's...</td>\n",
              "    </tr>\n",
              "  </tbody>\n",
              "</table>\n",
              "</div>"
            ],
            "text/plain": [
              "                         song_name  ...                                              words\n",
              "0      1. The Moulting (Intro).txt  ...  ['throughout', 'fluid', 'mass', 'downward', 'p...\n",
              "1            3. Feed Them Hate.txt  ...  ['lie', 'nourishes', 'waste', 'excrement', 'ro...\n",
              "2      2. Vehement Indulgences.txt  ...  ['sickening', 'life', 'throe', 'squalor', 'hol...\n",
              "3  4. The Bottomless Perdition.txt  ...  ['womb', 'nature', 'spoil', 'ruin', 'death', '...\n",
              "4      3. Valley Of Defilement.txt  ...  ['rotten', 'throne', 'corrupted', 'master', 's...\n",
              "\n",
              "[5 rows x 5 columns]"
            ]
          },
          "metadata": {
            "tags": []
          },
          "execution_count": 4
        }
      ]
    },
    {
      "cell_type": "code",
      "metadata": {
        "id": "09xpHYqruORe"
      },
      "source": [
        "# This turns a sentence into a vector whose entries are the corpus indices of the words in the sentence, \n",
        "# ordered as they appear in the sentence.\n",
        "\n",
        "def sent_to_vec(sentence, corpus):\n",
        "  # corpus = Pro_Lyrics_corpus_english\n",
        "\n",
        "  # cleaning (technically shouldn't to need since the input sentence is pre-cleaned):\n",
        "  #sent = ' '.join(x for x in sentence.split() if x not in string.punctuation)\n",
        "  #sent = sent.str.replace('[^\\w\\s]','')\n",
        "  #sent = ' '.join(x.lower() for x in sent.split())\n",
        "  #sent = ' '.join(x for x in sent.split() if  not x.isdigit())\n",
        "  #sent = ' '.join(x for x in sent.split() if not x in stop)\n",
        "  #sent = ' '.join([Word(word).lemmatize() for word in sent.split()])\n",
        "  sent = sentence.split(\" \")\n",
        "\n",
        "  vec = []\n",
        "\n",
        "  for i in range(len(sent)):\n",
        "    if sent[i] in corpus:\n",
        "      vec.append(corpus.index(sent[i]))\n",
        "\n",
        "  return vec"
      ],
      "execution_count": null,
      "outputs": []
    },
    {
      "cell_type": "code",
      "metadata": {
        "id": "H1dcCq8017WM"
      },
      "source": [
        "# This converts whole songs to lists of their lines (sentences).\n",
        "\n",
        "def song_to_lines(song):\n",
        "  lines = song.split(\"\\n\")\n",
        "\n",
        "  return lines"
      ],
      "execution_count": null,
      "outputs": []
    },
    {
      "cell_type": "markdown",
      "metadata": {
        "id": "k7KHpKKsdgcZ"
      },
      "source": [
        "# **Training Data Encoding**\n",
        "\n",
        "Run the block of cells which has the input type you want. However, currently the architecture of the networks is setup for only the first two types (length 8 input vectors)."
      ]
    },
    {
      "cell_type": "markdown",
      "metadata": {
        "id": "ETyiH86xdocN"
      },
      "source": [
        "## **Corpus-Index Encoded Length 8 Vectors, All Lines / All Corpus**\n",
        "\n",
        "Here, and in the following encoding, we represent lines as vectors of length $8$, where the $i^{th}$ entry of such a vector $v$ is the corpus index of the $i^{th}$ word in $v$.\n",
        "\n",
        "For example, the vector $(102, 1548, 0,0,0,0,0,0)$ would correspond to `Hello world` if the index of `Hello` in the corpus was $102$ and the index of `world` in the corpus was $1548$."
      ]
    },
    {
      "cell_type": "code",
      "metadata": {
        "colab": {
          "base_uri": "https://localhost:8080/",
          "height": 395
        },
        "id": "q8dM1eVoqjLc",
        "outputId": "fa6deb98-cd0c-4ca3-b694-f6c08f417cc3"
      },
      "source": [
        "# Data Prep (takes about 90 min to run) use the next cell instead:\n",
        "\n",
        "BUFFER_SIZE = 60000\n",
        "BATCH_SIZE = 64\n",
        "\n",
        "# Edit this!:\n",
        "\n",
        "lines = Pro_Lyrics_df[\"cleaned_lyrics\"].apply(song_to_lines)\n",
        "#now this is a pandas Series of lists of lines, example: lines.loc[5] = list of line strings in the 5th song.\n",
        "lines_list = [line for i in lines.index for line in lines.loc[i]]\n",
        "# now a list of lines. (the for's are backwards because Python needs this for double list-comprehension)\n",
        "\n",
        "# need a corpus here:\n",
        "train_sents = [sent_to_vec(line, Pro_Lyrics_corpus) for line in lines_list]\n",
        "\n",
        "# lines in a song should be roughly 8 words long:\n",
        "maxlen = 8\n",
        "\n",
        "train_sents_padded = tf.keras.preprocessing.sequence.pad_sequences(train_sents, maxlen=maxlen, padding='post').astype('float32')\n",
        "\n",
        "train_sents_padded = tf.expand_dims(train_sents_padded, axis = -1)\n",
        "train_sents_padded.shape\n",
        "\n",
        "with open(\"/content/drive/MyDrive/NLP bootcamp project/train_sents.txt\", \"wb\") as fp:\n",
        "  pickle.dump(train_sents, fp)"
      ],
      "execution_count": null,
      "outputs": [
        {
          "output_type": "error",
          "ename": "KeyboardInterrupt",
          "evalue": "ignored",
          "traceback": [
            "\u001b[0;31m---------------------------------------------------------------------------\u001b[0m",
            "\u001b[0;31mKeyboardInterrupt\u001b[0m                         Traceback (most recent call last)",
            "\u001b[0;32m<ipython-input-79-38611b05d886>\u001b[0m in \u001b[0;36m<module>\u001b[0;34m()\u001b[0m\n\u001b[1;32m     12\u001b[0m \u001b[0;34m\u001b[0m\u001b[0m\n\u001b[1;32m     13\u001b[0m \u001b[0;31m# need a corpus here:\u001b[0m\u001b[0;34m\u001b[0m\u001b[0;34m\u001b[0m\u001b[0;34m\u001b[0m\u001b[0m\n\u001b[0;32m---> 14\u001b[0;31m \u001b[0mtrain_sents\u001b[0m \u001b[0;34m=\u001b[0m \u001b[0;34m[\u001b[0m\u001b[0msent_to_vec\u001b[0m\u001b[0;34m(\u001b[0m\u001b[0mline\u001b[0m\u001b[0;34m,\u001b[0m \u001b[0mPro_Lyrics_corpus\u001b[0m\u001b[0;34m)\u001b[0m \u001b[0;32mfor\u001b[0m \u001b[0mline\u001b[0m \u001b[0;32min\u001b[0m \u001b[0mlines_list\u001b[0m\u001b[0;34m]\u001b[0m\u001b[0;34m\u001b[0m\u001b[0;34m\u001b[0m\u001b[0m\n\u001b[0m\u001b[1;32m     15\u001b[0m \u001b[0;34m\u001b[0m\u001b[0m\n\u001b[1;32m     16\u001b[0m \u001b[0;31m# lines in a song should be roughly 8 words long:\u001b[0m\u001b[0;34m\u001b[0m\u001b[0;34m\u001b[0m\u001b[0;34m\u001b[0m\u001b[0m\n",
            "\u001b[0;32m<ipython-input-79-38611b05d886>\u001b[0m in \u001b[0;36m<listcomp>\u001b[0;34m(.0)\u001b[0m\n\u001b[1;32m     12\u001b[0m \u001b[0;34m\u001b[0m\u001b[0m\n\u001b[1;32m     13\u001b[0m \u001b[0;31m# need a corpus here:\u001b[0m\u001b[0;34m\u001b[0m\u001b[0;34m\u001b[0m\u001b[0;34m\u001b[0m\u001b[0m\n\u001b[0;32m---> 14\u001b[0;31m \u001b[0mtrain_sents\u001b[0m \u001b[0;34m=\u001b[0m \u001b[0;34m[\u001b[0m\u001b[0msent_to_vec\u001b[0m\u001b[0;34m(\u001b[0m\u001b[0mline\u001b[0m\u001b[0;34m,\u001b[0m \u001b[0mPro_Lyrics_corpus\u001b[0m\u001b[0;34m)\u001b[0m \u001b[0;32mfor\u001b[0m \u001b[0mline\u001b[0m \u001b[0;32min\u001b[0m \u001b[0mlines_list\u001b[0m\u001b[0;34m]\u001b[0m\u001b[0;34m\u001b[0m\u001b[0;34m\u001b[0m\u001b[0m\n\u001b[0m\u001b[1;32m     15\u001b[0m \u001b[0;34m\u001b[0m\u001b[0m\n\u001b[1;32m     16\u001b[0m \u001b[0;31m# lines in a song should be roughly 8 words long:\u001b[0m\u001b[0;34m\u001b[0m\u001b[0;34m\u001b[0m\u001b[0;34m\u001b[0m\u001b[0m\n",
            "\u001b[0;32m<ipython-input-77-447efc6a03a1>\u001b[0m in \u001b[0;36msent_to_vec\u001b[0;34m(sentence, corpus)\u001b[0m\n\u001b[1;32m     17\u001b[0m \u001b[0;34m\u001b[0m\u001b[0m\n\u001b[1;32m     18\u001b[0m   \u001b[0;32mfor\u001b[0m \u001b[0mi\u001b[0m \u001b[0;32min\u001b[0m \u001b[0mrange\u001b[0m\u001b[0;34m(\u001b[0m\u001b[0mlen\u001b[0m\u001b[0;34m(\u001b[0m\u001b[0msent\u001b[0m\u001b[0;34m)\u001b[0m\u001b[0;34m)\u001b[0m\u001b[0;34m:\u001b[0m\u001b[0;34m\u001b[0m\u001b[0;34m\u001b[0m\u001b[0m\n\u001b[0;32m---> 19\u001b[0;31m     \u001b[0;32mif\u001b[0m \u001b[0msent\u001b[0m\u001b[0;34m[\u001b[0m\u001b[0mi\u001b[0m\u001b[0;34m]\u001b[0m \u001b[0;32min\u001b[0m \u001b[0mcorpus\u001b[0m\u001b[0;34m:\u001b[0m\u001b[0;34m\u001b[0m\u001b[0;34m\u001b[0m\u001b[0m\n\u001b[0m\u001b[1;32m     20\u001b[0m       \u001b[0mvec\u001b[0m\u001b[0;34m.\u001b[0m\u001b[0mappend\u001b[0m\u001b[0;34m(\u001b[0m\u001b[0mcorpus\u001b[0m\u001b[0;34m.\u001b[0m\u001b[0mindex\u001b[0m\u001b[0;34m(\u001b[0m\u001b[0msent\u001b[0m\u001b[0;34m[\u001b[0m\u001b[0mi\u001b[0m\u001b[0;34m]\u001b[0m\u001b[0;34m)\u001b[0m\u001b[0;34m)\u001b[0m\u001b[0;34m\u001b[0m\u001b[0;34m\u001b[0m\u001b[0m\n\u001b[1;32m     21\u001b[0m \u001b[0;34m\u001b[0m\u001b[0m\n",
            "\u001b[0;31mKeyboardInterrupt\u001b[0m: "
          ]
        }
      ]
    },
    {
      "cell_type": "code",
      "metadata": {
        "colab": {
          "base_uri": "https://localhost:8080/"
        },
        "id": "44v1Wf-LGvtN",
        "outputId": "7fec8624-5a93-42e5-a44d-19a9115eb31c"
      },
      "source": [
        "# Run this instead. the \"train_sents = [sent_to_vec(line, Pro_Lyrics_corpus) for line in lines_list]\" is loaded first:\n",
        "\n",
        "with open(\"/content/drive/MyDrive/NLP bootcamp project/train_sents.txt\", \"rb\") as fp:\n",
        "  train_sents = pickle.load(fp)\n",
        "\n",
        "lines = Pro_Lyrics_df[\"cleaned_lyrics\"].apply(song_to_lines)\n",
        "#now this is a pandas Series of lists of lines, example: lines.loc[5] = list of line strings in the 5th song.\n",
        "lines_list = [line for i in lines.index for line in lines.loc[i]]\n",
        "# now a list of lines. (the for's are backwards because Python needs this for double list-comprehension)\n",
        "\n",
        "BUFFER_SIZE = 60000\n",
        "BATCH_SIZE = 64\n",
        "\n",
        "maxlen = 8\n",
        "\n",
        "# We pad with 1059.0 here, as 1059 is the index of the string \"\" in the corpus.\n",
        "train_sents_padded = tf.keras.preprocessing.sequence.pad_sequences(train_sents, maxlen=maxlen, dtype = 'float32', padding='post', value = 1059.0)\n",
        "\n",
        "train_sents_padded = tf.expand_dims(train_sents_padded, axis = -1)\n",
        "train_sents_padded.shape"
      ],
      "execution_count": null,
      "outputs": [
        {
          "output_type": "execute_result",
          "data": {
            "text/plain": [
              "TensorShape([2371452, 8, 1])"
            ]
          },
          "metadata": {
            "tags": []
          },
          "execution_count": 181
        }
      ]
    },
    {
      "cell_type": "markdown",
      "metadata": {
        "id": "f0qE7hsSd45f"
      },
      "source": [
        "## **Corpus-Index Encoded Length 8 Vectors, English Lines / English Corpus**\n",
        "\n",
        "This encoding is the same as the last, but we limit our lines and corpus to only contain words in the `nltk` English dictionary."
      ]
    },
    {
      "cell_type": "code",
      "metadata": {
        "id": "nTWHAlfHeMnH"
      },
      "source": [
        "# Cleaning the lines of non-english:\n",
        "\n",
        "lines = Pro_Lyrics_df[\"cleaned_lyrics\"].apply(song_to_lines)\n",
        "#now this is a pandas Series of lists of lines, example: lines.loc[5] = list of line strings in the 5th song.\n",
        "lines_list = [line for i in lines.index for line in lines.loc[i]]\n",
        "# now a list of lines. (the for's are backwards because Python needs this for double list-comprehension)\n",
        "english_lines_list = []\n",
        "for line in lines_list:\n",
        "  vec_line = line.split()\n",
        "  c = True\n",
        "  for word in vec_line:\n",
        "    if word not in Pro_Lyrics_corpus_english:\n",
        "      c = False\n",
        "      break\n",
        "  if c and (line != \"\"):\n",
        "    english_lines_list.append(line)\n",
        "\n",
        "# now only english lines\n"
      ],
      "execution_count": null,
      "outputs": []
    },
    {
      "cell_type": "code",
      "metadata": {
        "id": "HzUAunnkeNQ4"
      },
      "source": [
        "print(len(english_lines_list))\n",
        "print(len(lines_list))\n",
        "\n",
        "# so almost 1/4 the size!"
      ],
      "execution_count": null,
      "outputs": []
    },
    {
      "cell_type": "code",
      "metadata": {
        "id": "zyNpw1deWPuU"
      },
      "source": [
        "# Adding '' to the corpus so we can use it (in the case of our inputs being length 8 vectors of corpus indices)\n",
        "Pro_Lyrics_corpus_english.append(\"\")"
      ],
      "execution_count": null,
      "outputs": []
    },
    {
      "cell_type": "code",
      "metadata": {
        "colab": {
          "base_uri": "https://localhost:8080/"
        },
        "id": "KdU_CzNJWTSB",
        "outputId": "2cac9860-e4af-4349-9b6e-56604e860f44"
      },
      "source": [
        "Pro_Lyrics_corpus_english.index(\"\")"
      ],
      "execution_count": null,
      "outputs": [
        {
          "output_type": "execute_result",
          "data": {
            "text/plain": [
              "31489"
            ]
          },
          "metadata": {
            "tags": []
          },
          "execution_count": 8
        }
      ]
    },
    {
      "cell_type": "code",
      "metadata": {
        "id": "N3JMCiX9eYkF"
      },
      "source": [
        "# USE THIS FOR ENGLISH VECTOR-LENGTH-8-CORPUS-INDEX INPUT (it uses english corpus AND non-english removed lines):\n",
        "\n",
        "new_train_sents_english = [sent_to_vec(line, Pro_Lyrics_corpus_english) for line in english_lines_list]\n",
        "\n",
        "# lines in a song should be roughly 8 words long:\n",
        "maxlen = 8\n",
        "\n",
        "train_sents_padded = tf.keras.preprocessing.sequence.pad_sequences(new_train_sents_english, maxlen=maxlen, dtype='float32', padding='post', value = 31489.0)\n",
        "\n",
        "train_sents_padded = tf.expand_dims(train_sents_padded, axis = -1)\n",
        "train_sents_padded.shape\n",
        "\n",
        "with open(\"/content/drive/MyDrive/NLP bootcamp project/new_train_sents_english.txt\", \"wb\") as fp:\n",
        "  pickle.dump(new_train_sents_english, fp)\n",
        "\n",
        "train_dataset = tf.data.Dataset.from_tensor_slices(train_sents_padded).shuffle(BUFFER_SIZE).batch(BATCH_SIZE)"
      ],
      "execution_count": null,
      "outputs": []
    },
    {
      "cell_type": "code",
      "metadata": {
        "id": "GbJFT-1HSlcP"
      },
      "source": [
        "# ENGLISH ONLY:\n",
        "\n",
        "# Run this instead. the \"train_sents = [sent_to_vec(line, Pro_Lyrics_corpus) for line in lines_list]\" is loaded first:\n",
        "\n",
        "with open(\"/content/drive/MyDrive/NLP bootcamp project/new_train_sents_english.txt\", \"rb\") as fp:\n",
        "  new_train_sents_english = pickle.load(fp)\n",
        "\n",
        "lines = Pro_Lyrics_df[\"cleaned_lyrics\"].apply(song_to_lines)\n",
        "#now this is a pandas Series of lists of lines, example: lines.loc[5] = list of line strings in the 5th song.\n",
        "lines_list = [line for i in lines.index for line in lines.loc[i]]\n",
        "# now a list of lines. (the for's are backwards because Python needs this for double list-comprehension)\n",
        "\n",
        "BUFFER_SIZE = 60000\n",
        "BATCH_SIZE = 64\n",
        "\n",
        "maxlen = 8\n",
        "\n",
        "# We pad with 31489.0 here, as 31489 is the index of the string \"\" in the corpus.\n",
        "train_sents_padded = tf.keras.preprocessing.sequence.pad_sequences(new_train_sents_english, maxlen=maxlen, dtype = 'float32', padding='post', value = 31489.0)\n",
        "\n",
        "train_sents_padded = tf.expand_dims(train_sents_padded, axis = -1)\n",
        "train_sents_padded.shape\n",
        "\n",
        "train_dataset = tf.data.Dataset.from_tensor_slices(train_sents_padded).shuffle(BUFFER_SIZE).batch(BATCH_SIZE)"
      ],
      "execution_count": null,
      "outputs": []
    },
    {
      "cell_type": "code",
      "metadata": {
        "colab": {
          "base_uri": "https://localhost:8080/"
        },
        "id": "rSnkVW9sza6O",
        "outputId": "70aa6198-99f4-43bd-bfa6-6e22d333ef1c"
      },
      "source": [
        "# Testing our data:\n",
        "\n",
        "k = 5\n",
        "print(Pro_Lyrics_df.loc[k,\"cleaned_lyrics\"])\n",
        "print(lines[k])"
      ],
      "execution_count": null,
      "outputs": [
        {
          "output_type": "stream",
          "text": [
            "deep beneath roots\n",
            "the lost one domain\n",
            "an ancient city corroding architecture\n",
            "servants chained reduced slaves\n",
            "the sorcery casted grant one way passage\n",
            "all this\n",
            "you stand inherit single strike\n",
            "banish insect humanoid\n",
            "you king\n",
            "free fading city\n",
            "you cant turn back\n",
            "you may devoured regret\n",
            "or let old spirits\n",
            "transform essence\n",
            "one killing blow grant godhood\n",
            "gaze upon thousand children\n",
            "swarming tentacle amongst sea black sand\n",
            "with new set eye see all\n",
            "\n",
            "\n",
            "['deep beneath roots', 'the lost one domain', 'an ancient city corroding architecture', 'servants chained reduced slaves', 'the sorcery casted grant one way passage', 'all this', 'you stand inherit single strike', 'banish insect humanoid', 'you king', 'free fading city', 'you cant turn back', 'you may devoured regret', 'or let old spirits', 'transform essence', 'one killing blow grant godhood', 'gaze upon thousand children', 'swarming tentacle amongst sea black sand', 'with new set eye see all', '', '']\n"
          ],
          "name": "stdout"
        }
      ]
    },
    {
      "cell_type": "markdown",
      "metadata": {
        "id": "A7oQPoUUemDf"
      },
      "source": [
        "# **Function Definitions**"
      ]
    },
    {
      "cell_type": "code",
      "metadata": {
        "id": "kFZGQcdvqb1j"
      },
      "source": [
        "# Creating a custom activation, a rescaling/shift of tanh so the range is (0,1).\n",
        "from keras.utils.generic_utils import get_custom_objects\n",
        "from keras.layers import Activation\n",
        "\n",
        "def positive_tanh(x):\n",
        "  return 0.5*(tf.nn.tanh(x) + 1)\n",
        "\n",
        "get_custom_objects().update({'positive_tanh': Activation(positive_tanh)})"
      ],
      "execution_count": null,
      "outputs": []
    },
    {
      "cell_type": "code",
      "metadata": {
        "id": "6wv3-7coTz3v"
      },
      "source": [
        "# clip model weights to a given hypercube\n",
        "from keras.constraints import Constraint\n",
        "\n",
        "class ClipConstraint(Constraint):\n",
        "\t# set clip value when initialized\n",
        "\tdef __init__(self, clip_value):\n",
        "\t\tself.clip_value = clip_value\n",
        " \n",
        "\t# clip model weights to hypercube\n",
        "\tdef __call__(self, weights):\n",
        "\t\treturn backend.clip(weights, -self.clip_value, self.clip_value)\n",
        " \n",
        "\t# get the config\n",
        "\tdef get_config(self):\n",
        "\t\treturn {'clip_value': self.clip_value}"
      ],
      "execution_count": null,
      "outputs": []
    },
    {
      "cell_type": "code",
      "metadata": {
        "id": "T2N7nF_4s8Ak"
      },
      "source": [
        "# This is the \"activation\" after decoding, since the encoder and decoder will produce and train on float values.\n",
        "# So any generated sentences must be run through this after being decoded.\n",
        "\n",
        "# length is the length of the corpus for modular arithmetic.\n",
        "\n",
        "def rectifier(T, length):\n",
        "  m = np.array(T)\n",
        "  new_m = np.zeros(np.shape(m))\n",
        "\n",
        "  for idx, x in np.ndenumerate(m):\n",
        "    new_m[idx] = round(x)\n",
        "\n",
        "  new_m = new_m.astype(int)\n",
        "\n",
        "  for idx, x in np.ndenumerate(new_m):\n",
        "    modular_x = x % length\n",
        "    new_m[idx] = modular_x\n",
        "\n",
        "  return new_m\n"
      ],
      "execution_count": null,
      "outputs": []
    },
    {
      "cell_type": "code",
      "metadata": {
        "id": "gdUx_LDPOO9J"
      },
      "source": [
        "# tf version of rectifier. Here corpus is a tensor already.\n",
        "def tf_rectifier(T, corpus):\n",
        "\n",
        "  new_T = tf.math.round(T)\n",
        "  new_T = tf.dtypes.cast(new_T, tf.int32)\n",
        "\n",
        "  new_T = tf.math.mod(new_T, tf.size(corpus))\n",
        "  new_T = tf.dtypes.cast(new_T, tf.float64)\n",
        "\n",
        "  return new_T"
      ],
      "execution_count": null,
      "outputs": []
    },
    {
      "cell_type": "code",
      "metadata": {
        "id": "_zXyD25FrqCK"
      },
      "source": [
        "# implementation of wasserstein loss\n",
        "def wasserstein_loss(y_true, y_pred):\n",
        "\treturn backend.mean(y_true * y_pred)\n",
        " \n",
        "# cross entropy loss for the encoder/decoder:\n",
        "cross_entropy = tf.keras.losses.BinaryCrossentropy(from_logits=True)\n",
        "# Or MSE loss for encoder/decoder:\n",
        "MSE = tf.keras.losses.MeanSquaredError()"
      ],
      "execution_count": null,
      "outputs": []
    },
    {
      "cell_type": "code",
      "metadata": {
        "id": "R2uNnRZu21hY"
      },
      "source": [
        "def gradient_penalty(real, fake, epsilon): \n",
        "    #mixed_images = real * epsilon + fake * (1 - epsilon)\n",
        "    mixed_images = fake + epsilon * (real - fake)\n",
        "    with tf.GradientTape() as tape:\n",
        "        tape.watch(mixed_images) \n",
        "        mixed_scores = discriminator1(mixed_images)\n",
        "        \n",
        "    gradient = tape.gradient(mixed_scores, mixed_images)[0]\n",
        "    \n",
        "    gradient_norm = tf.norm(gradient)\n",
        "    penalty = tf.math.reduce_mean((gradient_norm - 1)**2)\n",
        "    return penalty"
      ],
      "execution_count": null,
      "outputs": []
    },
    {
      "cell_type": "code",
      "metadata": {
        "id": "Io8e6aglqUgV"
      },
      "source": [
        "# Losses:\n",
        "# Note: -1 = real, 1 = fake.\n",
        "\n",
        "def discriminator_loss_total(real_output, fake_output, gradient_penalty):\n",
        "    C_lambda = 10\n",
        "    real_loss = wasserstein_loss(-1*tf.ones_like(real_output), real_output)\n",
        "    fake_loss = wasserstein_loss(tf.ones_like(fake_output), fake_output)\n",
        "\n",
        "    total_loss = real_loss + fake_loss + C_lambda * gradient_penalty\n",
        "    return total_loss\n",
        "\n",
        "def discriminator_loss_real(real_output):\n",
        "    real_loss = wasserstein_loss(-1*tf.ones_like(real_output), real_output)\n",
        "    return real_loss\n",
        "\n",
        "def discriminator_loss_fake(fake_output):\n",
        "    fake_loss = wasserstein_loss(tf.ones_like(fake_output), fake_output)\n",
        "    return fake_loss\n",
        "\n",
        "def generator_loss(fake_output):\n",
        "    return wasserstein_loss(-1*tf.ones_like(fake_output), fake_output)\n",
        "\n",
        "# Encoder/decoder losses:\n",
        "\n",
        "def encoderdecoder_loss(decoded_encoded_output, input):\n",
        "    #return cross_entropy(decoded_encoded_output, input)\n",
        "    # NO! try MSE:\n",
        "    return MSE(decoded_encoded_output, input)\n"
      ],
      "execution_count": null,
      "outputs": []
    },
    {
      "cell_type": "markdown",
      "metadata": {
        "id": "DidbyO7Re4kb"
      },
      "source": [
        "# **Network Architecture**"
      ]
    },
    {
      "cell_type": "code",
      "metadata": {
        "id": "ARo6YskAqUiW"
      },
      "source": [
        "# DCGANs usually use 100,000 - 500,000 iterations (epochs) for the generator...Colab pro?\n",
        "EPOCHS = 10\n",
        "# Encoder/decoder training epochs:\n",
        "en_EPOCHS = 10\n",
        "\n",
        "noise_dim = 100\n",
        "# make this a square (1,4,16,... etc.) for the subplotting code:\n",
        "num_examples_to_generate = 4\n",
        "\n",
        "# We will reuse this seed overtime (so it's easier)\n",
        "# to visualize progress in the animated GIF)\n",
        "seed = tf.random.normal([num_examples_to_generate, noise_dim])"
      ],
      "execution_count": null,
      "outputs": []
    },
    {
      "cell_type": "code",
      "metadata": {
        "id": "vRd0SBA1T06F"
      },
      "source": [
        "# This is a generic discriminator, reducing dimension equally with each layer.\n",
        "\n",
        "def make_discriminator_model1(r, dropout):\n",
        "    # weight initialization\n",
        "    init = RandomNormal(stddev=0.02)\n",
        "\t  # weight constraint\n",
        "    const = ClipConstraint(0.01)\n",
        "   \n",
        "    model = tf.keras.Sequential()\n",
        "    model.add(layers.Conv1D(32, 3, strides=2, padding='same', input_shape=[100, 1], kernel_initializer=init, kernel_regularizer=tf.keras.regularizers.L2(l2=r), kernel_constraint = const))\n",
        "    model.add(layers.LeakyReLU())\n",
        "    model.add(layers.Dropout(dropout))\n",
        "    # size now is [50, 1]\n",
        "\n",
        "    model.add(layers.Conv1D(64, 1, strides=2, padding='same', kernel_initializer=init, kernel_regularizer=tf.keras.regularizers.L2(l2=r), kernel_constraint = const))\n",
        "    model.add(layers.LeakyReLU())\n",
        "    model.add(layers.Dropout(dropout))\n",
        "    # size now is [25, 1]\n",
        "\n",
        "    model.add(layers.Conv1D(128, 1, strides=2, padding='same', kernel_initializer=init, kernel_regularizer=tf.keras.regularizers.L2(l2=r), kernel_constraint = const))\n",
        "    model.add(layers.LeakyReLU())\n",
        "    model.add(layers.Dropout(dropout))\n",
        "    # size now is [12, 1] or [13, 1]?\n",
        "\n",
        "    model.add(layers.Flatten())\n",
        "    model.add(layers.Dense(1))\n",
        "\n",
        "\n",
        "    return model"
      ],
      "execution_count": null,
      "outputs": []
    },
    {
      "cell_type": "code",
      "metadata": {
        "id": "MZHI8al2qUXY"
      },
      "source": [
        "# Generator model:\n",
        "\n",
        "def make_generator_model(r):\n",
        "\n",
        "    init = RandomNormal(stddev=0.02)\n",
        "\n",
        "    model = tf.keras.Sequential()\n",
        "    \n",
        "    model.add(layers.Dense(25*128, use_bias=False, kernel_initializer=init, input_shape=(100,)))\n",
        "    model.add(layers.BatchNormalization())\n",
        "    model.add(layers.LeakyReLU())\n",
        "\n",
        "    model.add(layers.Reshape((25, 128)))\n",
        "    assert model.output_shape == (None, 25, 128) # Note: None is the batch size\n",
        "\n",
        "    model.add(layers.Conv1DTranspose(64, 3, strides=1, padding='same', use_bias=False, kernel_initializer=init, kernel_regularizer=tf.keras.regularizers.L2(l2=r)))\n",
        "    assert model.output_shape == (None, 25, 64)\n",
        "    model.add(layers.BatchNormalization())\n",
        "    model.add(layers.LeakyReLU())\n",
        "    \n",
        "    model.add(layers.Conv1DTranspose(32, 3, strides=2, padding='same', use_bias=False, kernel_initializer=init, kernel_regularizer=tf.keras.regularizers.L2(l2=r)))\n",
        "    assert model.output_shape == (None, 50, 32) #1\n",
        "    model.add(layers.BatchNormalization())\n",
        "    model.add(layers.LeakyReLU())\n",
        "\n",
        "    # activation was positive_tanh...\n",
        "    model.add(layers.Conv1DTranspose(1, 3, strides=2, padding='same', use_bias=False, activation = 'tanh', kernel_initializer=init, kernel_regularizer=tf.keras.regularizers.L2(l2=r)))\n",
        "    assert model.output_shape == (None, 100, 1)\n",
        "\n",
        "\n",
        "    return model"
      ],
      "execution_count": null,
      "outputs": []
    },
    {
      "cell_type": "code",
      "metadata": {
        "id": "-cWnoc2St3fq"
      },
      "source": [
        "# NOTE: LSTM layers can have masks! should we use?\n",
        "# size used to be 512.\n",
        "# input to LSTM: [batch, timesteps, features]\n",
        "\n",
        "def make_encoder():\n",
        "  \n",
        "  model = tf.keras.Sequential()\n",
        "  model.add(tf.keras.layers.LSTM(100, input_shape=(8,1)))  #input_shape=(None,8,1)?\n",
        "  # Shape is now [64,100]\n",
        "\n",
        "  # some reshaping here?\n",
        "  model.add(layers.Reshape((100, 1)))\n",
        "\n",
        "  model.add(tf.keras.layers.LSTM(100))\n",
        "\n",
        "\n",
        "  return model"
      ],
      "execution_count": null,
      "outputs": []
    },
    {
      "cell_type": "code",
      "metadata": {
        "id": "wuh38yJBcn4K"
      },
      "source": [
        "def make_decoder():\n",
        "\n",
        "  model = tf.keras.Sequential()\n",
        "  model.add(tf.keras.layers.RepeatVector(8, input_shape=(100,)))   #input_shape=(None,100) when applying decoder to something\n",
        "  model.add(tf.keras.layers.LSTM(100, return_sequences=True)) \n",
        "\n",
        "  # Makes it take too long if 512:\n",
        "  model.add(tf.keras.layers.LSTM(100, return_sequences=True)) \n",
        "\n",
        "  # here we have a tanh activation (since all the LSTM layers do as well...could try sigmoid though)\n",
        "  # since we want output to be restricted.\n",
        "  model.add(tf.keras.layers.TimeDistributed(tf.keras.layers.Dense(1, activation = 'tanh')))\n",
        "\n",
        "  return model"
      ],
      "execution_count": null,
      "outputs": []
    },
    {
      "cell_type": "markdown",
      "metadata": {
        "id": "tnp9539IfAcQ"
      },
      "source": [
        "# **Encoder/Decoder Training Loops**"
      ]
    },
    {
      "cell_type": "code",
      "metadata": {
        "id": "pWf4YxI2infy"
      },
      "source": [
        "\n",
        "@tf.function\n",
        "def encoderdecoder_train_step(batch):\n",
        "\n",
        "  with tf.GradientTape() as ed_tape:\n",
        "    encoded_batch = encoder(batch, training=True)\n",
        "    decoded_encoded_batch = decoder(encoded_batch, training=True)\n",
        "\n",
        "    # Resizing:\n",
        "    # activation is tanh, and (0.5*(tanh(x) + 1) gives a probability in (0,1), then multiply it by length of corpus:\n",
        "    decoded_encoded_batch = (0.5*(decoded_encoded_batch + 1)) * len(Pro_Lyrics_corpus_english)\n",
        "\n",
        "    # Can't do this, as we get \"NotImplementedError: Cannot convert a symbolic Tensor (mul_1:0) to a numpy array.\"\n",
        "    #decoded_encoded_batch = rectifier(np.array(decoded_encoded_batch), len(Pro_Lyrics_corpus_english))\n",
        "\n",
        "    # Can't do this either, don't have kernel gradients???\n",
        "    #decoded_encoded_batch = tf_rectifier(decoded_encoded_batch, tf.convert_to_tensor(Pro_Lyrics_corpus_english))\n",
        "\n",
        "    # Here the encoder and decoder are trained as one:\n",
        "    ed_loss = encoderdecoder_loss(decoded_encoded_batch, batch)\n",
        "\n",
        "  gradients_of_encoder_plus_decoder = ed_tape.gradient(ed_loss, encoder.trainable_variables + decoder.trainable_variables)\n",
        "\n",
        "  encoderdecoder_optimizer.apply_gradients(zip(gradients_of_encoder_plus_decoder, encoder.trainable_variables + decoder.trainable_variables))\n",
        "\n",
        "  return ed_loss"
      ],
      "execution_count": null,
      "outputs": []
    },
    {
      "cell_type": "code",
      "metadata": {
        "id": "euP5HbIrh31t"
      },
      "source": [
        "# This trains the encoder/decoder:\n",
        "\n",
        "def encoder_train(dataset, en_epochs):\n",
        "  ed_hist = list()\n",
        "\n",
        "  for epoch in range(en_epochs):\n",
        "    start = time.time()\n",
        "\n",
        "    for batch in dataset:\n",
        "      ed_tmp = encoderdecoder_train_step(batch)\n",
        "      ed_hist.append(ed_tmp)\n",
        "\n",
        "    print ('Time for epoch {} is {} sec'.format(epoch + 1, time.time()-start))\n",
        "\n",
        "  return ed_hist"
      ],
      "execution_count": null,
      "outputs": []
    },
    {
      "cell_type": "code",
      "metadata": {
        "id": "l8a1NCqXcSLY"
      },
      "source": [
        "def decode_and_print(prediction_vec, corpus):\n",
        "  sent = []\n",
        "  for idx, word_index in np.ndenumerate(prediction_vec):\n",
        "    sent.append(corpus[word_index])\n",
        "\n",
        "  sentence = \"\"\n",
        "  for word in sent:\n",
        "    sentence = sentence + word + \" \"\n",
        "\n",
        "  return sentence\n"
      ],
      "execution_count": null,
      "outputs": []
    },
    {
      "cell_type": "markdown",
      "metadata": {
        "id": "V6cU3rWkfLN6"
      },
      "source": [
        "# **Instantiating Encoder/Decoder Models, Initial Tests**"
      ]
    },
    {
      "cell_type": "code",
      "metadata": {
        "colab": {
          "base_uri": "https://localhost:8080/"
        },
        "id": "mSK2IXRC8sv3",
        "outputId": "bb1b21c0-fd0f-4e0b-daeb-4b3f8d7076e6"
      },
      "source": [
        "encoder = make_encoder()\n",
        "decoder = make_decoder()\n",
        "test_input = np.array(list(range(100)))\n",
        "\n",
        "# decoder needs (None,100) as input:\n",
        "test_input = tf.expand_dims(test_input, axis = 0)\n",
        "test_output = decoder(test_input)\n",
        "\n",
        "# Resizing:\n",
        "test_output = 0.5*(test_output + 1) * len(Pro_Lyrics_corpus_english)\n",
        "\n",
        "# NOTE: decoder has no activation in final layer...do we need rescaling???\n",
        "\n",
        "# want output shape to be [1, 8, 1]:\n",
        "test_output.shape"
      ],
      "execution_count": null,
      "outputs": [
        {
          "output_type": "execute_result",
          "data": {
            "text/plain": [
              "TensorShape([1, 8, 1])"
            ]
          },
          "metadata": {
            "tags": []
          },
          "execution_count": 27
        }
      ]
    },
    {
      "cell_type": "code",
      "metadata": {
        "colab": {
          "base_uri": "https://localhost:8080/"
        },
        "id": "8sCXX-U7W9ex",
        "outputId": "287fdfcb-c494-49e2-8e47-3befd988388d"
      },
      "source": [
        "test_output"
      ],
      "execution_count": null,
      "outputs": [
        {
          "output_type": "execute_result",
          "data": {
            "text/plain": [
              "<tf.Tensor: shape=(1, 8, 1), dtype=float32, numpy=\n",
              "array([[[15289.802],\n",
              "        [14627.734],\n",
              "        [14036.219],\n",
              "        [13556.01 ],\n",
              "        [13178.968],\n",
              "        [12886.431],\n",
              "        [12659.113],\n",
              "        [12480.584]]], dtype=float32)>"
            ]
          },
          "metadata": {
            "tags": []
          },
          "execution_count": 29
        }
      ]
    },
    {
      "cell_type": "code",
      "metadata": {
        "colab": {
          "base_uri": "https://localhost:8080/"
        },
        "id": "0VhWCwtkaL-E",
        "outputId": "72b79da0-9488-4ee1-eb29-878851ee4b76"
      },
      "source": [
        "# A test of decoder(encoder):\n",
        "\n",
        "ex_sent = new_train_sents_english[10543]\n",
        "sentence = \"\"\n",
        "for word_index in ex_sent:\n",
        "  sentence = sentence + \" \" + Pro_Lyrics_corpus_english[word_index]\n",
        "print(ex_sent)\n",
        "print(sentence)\n",
        "\n",
        "# note: we have to make this floats and pad with floats.\n",
        "ex_sent = list(np.array(ex_sent).astype(float))\n",
        "\n",
        "# NOTE: we should be padding with 1059, not 0! 1059 corresponds to \"\"!\n",
        "ex_sent = ex_sent + [31489.0, 31489.0, 31489.0, 31489.0, 31489.0]\n",
        "ex_sent = tf.expand_dims(ex_sent, axis = -1)\n",
        "ex_sent = tf.expand_dims(ex_sent, axis = 0) #?\n",
        "\n",
        "test_output2 = decoder(encoder(ex_sent))\n",
        "\n",
        "# Resizing:\n",
        "test_output2 = 0.5*(test_output2 + 1) * len(Pro_Lyrics_corpus_english)\n",
        "\n",
        "print(test_output2)\n",
        "print()\n",
        "print(rectifier(test_output2, len(Pro_Lyrics_corpus_english)))\n",
        "print()\n",
        "result = decode_and_print(rectifier(test_output2, len(Pro_Lyrics_corpus_english)), Pro_Lyrics_corpus_english)\n",
        "print(result)"
      ],
      "execution_count": null,
      "outputs": [
        {
          "output_type": "stream",
          "text": [
            "[4463, 278, 2733]\n",
            " immortal power surge\n",
            "tf.Tensor(\n",
            "[[[15737.241]\n",
            "  [15725.77 ]\n",
            "  [15713.676]\n",
            "  [15702.165]\n",
            "  [15691.694]\n",
            "  [15682.336]\n",
            "  [15673.991]\n",
            "  [15666.503]]], shape=(1, 8, 1), dtype=float32)\n",
            "\n",
            "[[[15737]\n",
            "  [15726]\n",
            "  [15714]\n",
            "  [15702]\n",
            "  [15692]\n",
            "  [15682]\n",
            "  [15674]\n",
            "  [15667]]]\n",
            "\n",
            "plundering calorie circled lineament pander tobacco booty avast \n"
          ],
          "name": "stdout"
        }
      ]
    },
    {
      "cell_type": "markdown",
      "metadata": {
        "id": "iqL9zqzxfWB_"
      },
      "source": [
        "# **Encoder/Decoder Learning Rate Scheduling and Optimizers**"
      ]
    },
    {
      "cell_type": "code",
      "metadata": {
        "id": "ioHOkc2C8sx9"
      },
      "source": [
        "lr_schedule = tfa.optimizers.ExponentialCyclicalLearningRate(initial_learning_rate=1e-4,\n",
        "                                                             maximal_learning_rate=1e-3,\n",
        "                                                             step_size=2000,\n",
        "                                                             scale_mode=\"cycle\",\n",
        "                                                             gamma=0.96,\n",
        "                                                             name=\"MyCyclicScheduler\")\n",
        "\n",
        "encoderdecoder_optimizer = tf.keras.optimizers.Adam(learning_rate=lr_schedule)\n",
        "\n",
        "import os\n",
        "checkpoint_dir = './training_checkpoints_encoder_decoder'\n",
        "checkpoint_prefix = os.path.join(checkpoint_dir, \"ckpt\")\n",
        "checkpoint = tf.train.Checkpoint(encoderdecoder_optimizer=encoderdecoder_optimizer,\n",
        "                                 encoder=encoder,\n",
        "                                 decoder=decoder)"
      ],
      "execution_count": null,
      "outputs": []
    },
    {
      "cell_type": "markdown",
      "metadata": {
        "id": "uwnN60AafbiV"
      },
      "source": [
        "# **Encoder/Decoder Training**"
      ]
    },
    {
      "cell_type": "code",
      "metadata": {
        "colab": {
          "base_uri": "https://localhost:8080/"
        },
        "id": "MVNjTK0I880v",
        "outputId": "257a2d72-f3c7-4ec6-efa8-c7121b4974f7"
      },
      "source": [
        "# training:\n",
        "\n",
        "ed_hist = encoder_train(train_dataset, en_EPOCHS)"
      ],
      "execution_count": null,
      "outputs": [
        {
          "output_type": "stream",
          "text": [
            "Time for epoch 1 is 168.59897112846375 sec\n",
            "Time for epoch 2 is 164.8303005695343 sec\n",
            "Time for epoch 3 is 163.0060601234436 sec\n",
            "Time for epoch 4 is 164.11729097366333 sec\n",
            "Time for epoch 5 is 163.1029281616211 sec\n",
            "Time for epoch 6 is 162.60921335220337 sec\n",
            "Time for epoch 7 is 162.42824912071228 sec\n",
            "Time for epoch 8 is 161.78620266914368 sec\n",
            "Time for epoch 9 is 161.26391625404358 sec\n",
            "Time for epoch 10 is 162.5551471710205 sec\n"
          ],
          "name": "stdout"
        }
      ]
    },
    {
      "cell_type": "markdown",
      "metadata": {
        "id": "AcIbOZAvfgO1"
      },
      "source": [
        "# **Losses and Testing**"
      ]
    },
    {
      "cell_type": "code",
      "metadata": {
        "colab": {
          "base_uri": "https://localhost:8080/",
          "height": 602
        },
        "id": "v1MBU_oTYtHd",
        "outputId": "cdc435ee-227d-4b25-92af-2ba01cdb5ac8"
      },
      "source": [
        "# Plotting ED loss:\n",
        "\n",
        "plt.figure(figsize=(10,10))\n",
        "\n",
        "plt.plot(ed_hist, label=\"Encoder/Decoder loss\")\n",
        "plt.legend(fontsize=14)\n",
        "\n",
        "plt.show()"
      ],
      "execution_count": null,
      "outputs": [
        {
          "output_type": "display_data",
          "data": {
            "image/png": "[encoded data removed]",
            "text/plain": [
              "<Figure size 720x720 with 1 Axes>"
            ]
          },
          "metadata": {
            "tags": []
          }
        }
      ]
    },
    {
      "cell_type": "code",
      "metadata": {
        "id": "3vaaXoGXTXSl"
      },
      "source": [
        "# This shows some periodic behavior, possibly due to our cyclic learning rate. How to adjust?"
      ],
      "execution_count": null,
      "outputs": []
    },
    {
      "cell_type": "code",
      "metadata": {
        "colab": {
          "base_uri": "https://localhost:8080/"
        },
        "id": "BoO_p_tSzqUY",
        "outputId": "c599c04c-0eab-4669-c044-ce7ca34df10e"
      },
      "source": [
        "# A test of the trained decoder(encoder):\n",
        "\n",
        "ex_sent = new_train_sents_english[10543]\n",
        "sentence = \"\"\n",
        "for word_index in ex_sent:\n",
        "  sentence = sentence + \" \" + Pro_Lyrics_corpus_english[word_index]\n",
        "print(ex_sent)\n",
        "print(sentence)\n",
        "\n",
        "# note: we have to make this floats and pad with floats.\n",
        "ex_sent = list(np.array(ex_sent).astype(float))\n",
        "\n",
        "ex_sent = ex_sent + [31489.0, 31489.0, 31489.0, 31489.0, 31489.0]\n",
        "ex_sent = tf.expand_dims(ex_sent, axis = -1)\n",
        "ex_sent = tf.expand_dims(ex_sent, axis = 0) \n",
        "\n",
        "test_output2 = decoder(encoder(ex_sent))\n",
        "\n",
        "# Resizing:\n",
        "test_output2 = 0.5*(test_output2 + 1) * len(Pro_Lyrics_corpus_english)\n",
        "\n",
        "print(test_output2)\n",
        "print()\n",
        "print(rectifier(test_output2, len(Pro_Lyrics_corpus_english)))\n",
        "print()\n",
        "result = decode_and_print(rectifier(test_output2, len(Pro_Lyrics_corpus_english)), Pro_Lyrics_corpus_english)\n",
        "print(result)"
      ],
      "execution_count": null,
      "outputs": [
        {
          "output_type": "stream",
          "text": [
            "[1074, 882, 1908, 542]\n",
            " there thing forever son\n",
            "tf.Tensor(\n",
            "[[[19394.195]\n",
            "  [18613.062]\n",
            "  [21675.188]\n",
            "  [25518.541]\n",
            "  [28844.098]\n",
            "  [30397.84 ]\n",
            "  [31031.652]\n",
            "  [31299.35 ]]], shape=(1, 8, 1), dtype=float32)\n",
            "\n",
            "[[[19394]\n",
            "  [18613]\n",
            "  [21675]\n",
            "  [25519]\n",
            "  [28844]\n",
            "  [30398]\n",
            "  [31032]\n",
            "  [31299]]]\n",
            "\n",
            "tec catalysis discriminating subcity paroxysm berri translocation ceratoid \n"
          ],
          "name": "stdout"
        }
      ]
    },
    {
      "cell_type": "markdown",
      "metadata": {
        "id": "hydh6SfKfmwW"
      },
      "source": [
        "# **Saving Encoder/Decoder Models**"
      ]
    },
    {
      "cell_type": "code",
      "metadata": {
        "id": "UTzG0R5SET52"
      },
      "source": [
        "# SAVE the encoder and decoder model here:\n",
        "\n",
        "encoder.save('/content/drive/MyDrive/NLP bootcamp project/models/encoder.h5')\n",
        "decoder.save('/content/drive/MyDrive/NLP bootcamp project/models/decoder.h5')\n"
      ],
      "execution_count": null,
      "outputs": []
    },
    {
      "cell_type": "markdown",
      "metadata": {
        "id": "Wopkq-Lcfrdo"
      },
      "source": [
        "# **WGAN Training - Loading Encoder and Decoder**"
      ]
    },
    {
      "cell_type": "code",
      "metadata": {
        "id": "WscjbMjPFPhS",
        "colab": {
          "base_uri": "https://localhost:8080/"
        },
        "outputId": "959d2824-837f-4c09-9dc5-efad944a70df"
      },
      "source": [
        "# LOAD the encoder/decoder here:\n",
        "\n",
        "encoder = tf.keras.models.load_model('/content/drive/MyDrive/NLP bootcamp project/models/encoder.h5')\n",
        "decoder = tf.keras.models.load_model('/content/drive/MyDrive/NLP bootcamp project/models/decoder.h5')\n"
      ],
      "execution_count": null,
      "outputs": [
        {
          "output_type": "stream",
          "text": [
            "WARNING:tensorflow:No training configuration found in the save file, so the model was *not* compiled. Compile it manually.\n",
            "WARNING:tensorflow:No training configuration found in the save file, so the model was *not* compiled. Compile it manually.\n"
          ],
          "name": "stdout"
        }
      ]
    },
    {
      "cell_type": "code",
      "metadata": {
        "id": "VyvbK8p0XyLy"
      },
      "source": [
        "encoder.compile()\n",
        "decoder.compile()"
      ],
      "execution_count": null,
      "outputs": []
    },
    {
      "cell_type": "markdown",
      "metadata": {
        "id": "ZL6Y3Wi5f1vU"
      },
      "source": [
        "# **WGAN Training Loops**"
      ]
    },
    {
      "cell_type": "code",
      "metadata": {
        "id": "ta0DSAyGixJU"
      },
      "source": [
        "@tf.function\n",
        "def d_train_step(batch):\n",
        "    noise = tf.random.normal([len(batch), noise_dim])\n",
        "\n",
        "    with tf.GradientTape() as disc1_tape:\n",
        "        generated_batch = generator(noise, training=True)\n",
        "\n",
        "        # No need to resize, encoder uses tanh activation and is trained without resizing:\n",
        "        #generated_batch = 0.5*(generated_batch + 1) * len(Pro_Lyrics_corpus)\n",
        "\n",
        "        encoded_batch = encoder(batch)\n",
        "        encoded_batch = tf.expand_dims(encoded_batch, axis = -1)\n",
        "        \n",
        "        real_output1 = discriminator1(encoded_batch, training=True)\n",
        "        fake_output1 = discriminator1(generated_batch, training=True)\n",
        "\n",
        "        # do we want shape [BATCH_SIZE, 100, 1] or [BATCH_SIZE, 1, 1]???\n",
        "        epsilon = tf.random.normal([len(batch), 1, 1], 0.0, 1.0)\n",
        "        # We need the gradient penalty to happen at the encoded level:\n",
        "        gp = gradient_penalty(encoded_batch, generated_batch, epsilon)\n",
        "\n",
        "        disc1_loss = discriminator_loss_total(real_output1, fake_output1, gp)\n",
        "\n",
        "        disc1_loss_r = discriminator_loss_real(real_output1)\n",
        "        disc1_loss_f = discriminator_loss_fake(fake_output1)\n",
        "\n",
        "\n",
        "\n",
        "    gradients_of_discriminator1 = disc1_tape.gradient(disc1_loss, discriminator1.trainable_variables)\n",
        "\n",
        "    discriminator_optimizer1.apply_gradients(zip(gradients_of_discriminator1, discriminator1.trainable_variables))\n",
        "\n",
        "\n",
        "    return disc1_loss, disc1_loss_r, disc1_loss_f"
      ],
      "execution_count": null,
      "outputs": []
    },
    {
      "cell_type": "code",
      "metadata": {
        "id": "tvLZj63Ji03_"
      },
      "source": [
        "@tf.function\n",
        "def g_train_step():\n",
        "    noise = tf.random.normal([BATCH_SIZE, noise_dim])\n",
        "\n",
        "    with tf.GradientTape() as gen_tape:\n",
        "        generated_images = generator(noise, training=True)\n",
        "\n",
        "        # No need to resize, encoder uses tanh activation and is trained without resizing:\n",
        "        #generated_images = 0.5*(generated_images + 1) * len(Pro_Lyrics_corpus)\n",
        "\n",
        "        fake_output1 = discriminator1(generated_images, training=True)\n",
        "\n",
        "        gen_loss = generator_loss(fake_output1)\n",
        "\n",
        "    gradients_of_generator = gen_tape.gradient(gen_loss, generator.trainable_variables)\n",
        "\n",
        "    generator_optimizer.apply_gradients(zip(gradients_of_generator, generator.trainable_variables))\n",
        "    return gen_loss"
      ],
      "execution_count": null,
      "outputs": []
    },
    {
      "cell_type": "code",
      "metadata": {
        "id": "CUrU_U8ir3dU"
      },
      "source": [
        "# This trains the discriminator and generator:\n",
        "\n",
        "def train(dataset, epochs):\n",
        "    n_critic = 5\n",
        "    c_hist, c_r_hist, c_f_hist, g_hist = list(), list(), list(), list()\n",
        "    # Should the noise go here??? And pass the same noise to the d_train_step and g_train_step???\n",
        "    count = 0\n",
        "\n",
        "    for epoch in range(epochs):\n",
        "        start = time.time()\n",
        "\n",
        "        for batch in dataset:\n",
        "            c_tmp, c_r_tmp, c_f_tmp, g_tmp = list(), list(), list(), list()\n",
        "\n",
        "            for _ in range(n_critic):\n",
        "                c_loss, c_r_loss, c_f_loss = d_train_step(batch)\n",
        "                c_tmp.append(c_loss)\n",
        "                c_r_tmp.append(c_r_loss)\n",
        "                c_f_tmp.append(c_f_loss)\n",
        "\n",
        "            c_hist.append(mean(c_tmp))\n",
        "            c_r_hist.append(mean(c_r_tmp))\n",
        "            c_f_hist.append(mean(c_f_tmp))\n",
        "\n",
        "            g_loss = g_train_step()\n",
        "            g_hist.append(g_loss)\n",
        "\n",
        "            if count%1000 == 0:\n",
        "              print('>%d, c1=%.3f, c1r=%.3f, c1f=%.3f, g=%.3f' % (count+1, c_hist[-1], c_r_hist[-1], c_f_hist[-1], g_loss))\n",
        "\n",
        "            count += 1\n",
        "\n",
        "        # Print a generated song line every epoch:\n",
        "        #display.clear_output(wait=True)\n",
        "        if (epoch + 1) % 1 == 0:\n",
        "          generate_and_save(generator, epoch + 1, seed)\n",
        "\n",
        "        # Save the model every 5 epochs\n",
        "        if (epoch + 1) % 5 == 0:\n",
        "            checkpoint.save(file_prefix = checkpoint_prefix)\n",
        "\n",
        "        print ('Time for epoch {} is {} sec'.format(epoch + 1, time.time()-start))\n",
        "\n",
        "\n",
        "    # Generate after the final epoch\n",
        "    #display.clear_output(wait=True)\n",
        "    generate_and_save(generator, epochs, seed)\n",
        "\n",
        "    return c_hist, c_r_hist, c_f_hist, g_hist"
      ],
      "execution_count": null,
      "outputs": []
    },
    {
      "cell_type": "code",
      "metadata": {
        "id": "PCar_Urdr3ku"
      },
      "source": [
        "def generate_and_save(model, epoch, test_input):\n",
        "    # Notice 'training' is set to False.\n",
        "    # This is so all layers run in inference mode (batchnorm).\n",
        "    predictions = model(test_input, training=False)\n",
        "\n",
        "    for i in range(predictions.shape[0]):\n",
        "        prediction = tf.expand_dims(predictions[i,:,0], axis = 0)\n",
        "        decoded_sent = decoder(prediction)\n",
        "\n",
        "        # Resizing:\n",
        "        decoded_sent = 0.5*(decoded_sent + 1) * len(Pro_Lyrics_corpus_english)\n",
        "\n",
        "        sentence = decode_and_print(rectifier(decoded_sent, len(Pro_Lyrics_corpus_english)), Pro_Lyrics_corpus_english)\n",
        "        print(sentence)\n",
        "        print()\n",
        "\n",
        "\n",
        "          # Save the sentences/lines here?"
      ],
      "execution_count": null,
      "outputs": []
    },
    {
      "cell_type": "markdown",
      "metadata": {
        "id": "fRFQ_TEmf8lN"
      },
      "source": [
        "# **Instantiating WGAN Models, Initial Tests**"
      ]
    },
    {
      "cell_type": "code",
      "metadata": {
        "id": "eMO7sVOCsUZm"
      },
      "source": [
        "# the 3 fields for the generator are: \n",
        "# (L2 regularization parameter for the kernel, T/F value of whether to use kernel constraint, MaxNorm value for the kernel\n",
        "# constraint [if included using the T/F value]).\n",
        "\n",
        "# Here we make the generator and apply it to sample noise:\n",
        "generator = make_generator_model(0.0001)\n",
        "noise = tf.random.normal([1, 100])\n",
        "S = generator(noise, training=False)\n",
        "\n",
        "#plt.imshow(S[0, :, 0], cmap='gray')"
      ],
      "execution_count": null,
      "outputs": []
    },
    {
      "cell_type": "code",
      "metadata": {
        "colab": {
          "base_uri": "https://localhost:8080/"
        },
        "id": "PoLHZjrmg-Fs",
        "outputId": "5761f07f-c828-4056-85d9-a28cfcb228fc"
      },
      "source": [
        "S.shape"
      ],
      "execution_count": null,
      "outputs": [
        {
          "output_type": "execute_result",
          "data": {
            "text/plain": [
              "TensorShape([1, 100, 1])"
            ]
          },
          "metadata": {
            "tags": []
          },
          "execution_count": 42
        }
      ]
    },
    {
      "cell_type": "code",
      "metadata": {
        "colab": {
          "base_uri": "https://localhost:8080/"
        },
        "id": "9KBPsjubo0u9",
        "outputId": "b44029fe-7c05-4282-9d9d-d2abd3816f0d"
      },
      "source": [
        "decoded_S = 0.5*(decoder(S[:,:,0]) + 1) * len(Pro_Lyrics_corpus_english)\n",
        "decoded_S.shape\n"
      ],
      "execution_count": null,
      "outputs": [
        {
          "output_type": "execute_result",
          "data": {
            "text/plain": [
              "TensorShape([1, 8, 1])"
            ]
          },
          "metadata": {
            "tags": []
          },
          "execution_count": 43
        }
      ]
    },
    {
      "cell_type": "code",
      "metadata": {
        "colab": {
          "base_uri": "https://localhost:8080/"
        },
        "id": "ZqtH4vhysUcL",
        "outputId": "036f21bd-ab07-4773-8d34-b5a6749f784d"
      },
      "source": [
        "# Now apply the rectifier to make all entries 0 or 1:\n",
        "newS = rectifier(decoded_S[0,:,0], len(Pro_Lyrics_corpus_english))\n",
        "#newS\n",
        "test_sent = decode_and_print(newS, Pro_Lyrics_corpus_english)\n",
        "print(test_sent)"
      ],
      "execution_count": null,
      "outputs": [
        {
          "output_type": "stream",
          "text": [
            "undignified lanner accost lightlessness katabasis unminding joylessly sorrowfully \n"
          ],
          "name": "stdout"
        }
      ]
    },
    {
      "cell_type": "code",
      "metadata": {
        "id": "2SlZzm_ksUfb"
      },
      "source": [
        "# Just checking what a real song line looks like (6th line in our data):\n",
        "#plt.imshow(train_sents[5][:maxlen], cmap='gray')"
      ],
      "execution_count": null,
      "outputs": []
    },
    {
      "cell_type": "code",
      "metadata": {
        "colab": {
          "base_uri": "https://localhost:8080/"
        },
        "id": "xNMSssGdsfj7",
        "outputId": "70458de5-fcc2-4761-b8cc-c0d8e2aae9b2"
      },
      "source": [
        "# the 4 fields for the discriminators are: \n",
        "# (L2 regularization parameter for the kernel, T/F value of whether to use a kernel constraint, MaxNorm value for the kernel\n",
        "# constraint [if included using the T/F value], and dropout rate).\n",
        "\n",
        "discriminator1 = make_discriminator_model1(0.0001, 0.3)   # Dropout was 0.3 earlier\n",
        "#discriminator2 = make_discriminator_model2(0.0001, 0.3)\n",
        "#discriminator3 = make_discriminator_model3(0.0001, 0.3)\n",
        "decision1 = discriminator1(S)\n",
        "#decision2 = discriminator2(newS)\n",
        "#decision3 = discriminator3(newS)\n",
        "print(np.array(decision1)[0][0])  #, np.array(decision2)[0][0], np.array(decision3)[0][0])\n",
        "print()\n",
        "# positive for real, negative for fake.\n",
        "\n",
        "# weighted sum of 3 decisions:\n",
        "#weight1 = 1\n",
        "#weight2 = 1.5\n",
        "#weight3 = 0.7\n",
        "#print((weight1*np.array(decision1)[0][0] + weight2*np.array(decision2)[0][0] + weight3*np.array(decision3)[0][0])/(weight1+weight2+weight3))"
      ],
      "execution_count": null,
      "outputs": [
        {
          "output_type": "stream",
          "text": [
            "-7.9190364e-08\n",
            "\n"
          ],
          "name": "stdout"
        }
      ]
    },
    {
      "cell_type": "markdown",
      "metadata": {
        "id": "30LCaWlfgOg_"
      },
      "source": [
        "# **WGAN Learning Rate Scheduling and Optimizers**"
      ]
    },
    {
      "cell_type": "code",
      "metadata": {
        "id": "iq9X1S76sfm7"
      },
      "source": [
        "# Try a learning rate schedule (exponential decreasing cyclic)\n",
        "\n",
        "#initial_learning_rate = 0.1\n",
        "#lr_schedule = keras.optimizers.schedules.ExponentialDecay(initial_learning_rate, \n",
        "                                                          #decay_steps=100000, \n",
        "                                                          #decay_rate=0.96, \n",
        "                                                          #staircase=True)\n",
        "\n",
        "lr_schedule2 = tfa.optimizers.ExponentialCyclicalLearningRate(initial_learning_rate=1e-4,\n",
        "                                                             maximal_learning_rate=1e-3,\n",
        "                                                             step_size=2000,\n",
        "                                                             scale_mode=\"cycle\",\n",
        "                                                             gamma=0.95,\n",
        "                                                             name=\"MyCyclicScheduler\")\n",
        "\n",
        "generator_optimizer = RMSprop(learning_rate=lr_schedule2)\n",
        "discriminator_optimizer1 = RMSprop(learning_rate=lr_schedule2)\n",
        "#discriminator_optimizer2 = RMSprop(learning_rate=lr_schedule2)\n",
        "#discriminator_optimizer3 = RMSprop(learning_rate=lr_schedule2)\n",
        "\n",
        "import os\n",
        "checkpoint_dir = './training_checkpoints'\n",
        "checkpoint_prefix = os.path.join(checkpoint_dir, \"ckpt\")\n",
        "checkpoint = tf.train.Checkpoint(generator_optimizer=generator_optimizer,\n",
        "                                 discriminator_optimizer1=discriminator_optimizer1,\n",
        "                                 generator=generator,\n",
        "                                 discriminator1=discriminator1)\n",
        "                                 #discriminator2=discriminator2,\n",
        "                                 #discriminator3=discriminator3)"
      ],
      "execution_count": null,
      "outputs": []
    },
    {
      "cell_type": "markdown",
      "metadata": {
        "id": "prRUdopigRAO"
      },
      "source": [
        "# **WGAN Training**"
      ]
    },
    {
      "cell_type": "code",
      "metadata": {
        "colab": {
          "base_uri": "https://localhost:8080/"
        },
        "id": "A3cPh0w9skf7",
        "outputId": "9f97f39a-ba7b-470f-af24-3ec302a01f3e"
      },
      "source": [
        "# Now for actual training:\n",
        "\n",
        "c_hist,c_r_hist,c_f_hist,g_hist = train(train_dataset, EPOCHS)\n",
        "\n"
      ],
      "execution_count": null,
      "outputs": [
        {
          "output_type": "stream",
          "text": [
            ">1, c1=9.998, c1r=0.000, c1f=-0.000, g=0.000\n",
            ">1001, c1=8.435, c1r=-4.825, c1f=5.176, g=-5.154\n",
            ">2001, c1=7.445, c1r=-8.734, c1f=9.407, g=-9.355\n",
            ">3001, c1=7.385, c1r=-8.439, c1f=9.228, g=-8.760\n",
            ">4001, c1=6.414, c1r=-2.460, c1f=3.244, g=-3.820\n",
            ">5001, c1=7.030, c1r=-9.690, c1f=11.229, g=-10.865\n",
            ">6001, c1=5.832, c1r=-13.957, c1f=14.692, g=-14.618\n",
            ">7001, c1=5.838, c1r=-8.027, c1f=9.066, g=-9.454\n",
            ">8001, c1=5.760, c1r=-3.901, c1f=4.990, g=-4.703\n",
            "rumple unworked augmented untriumphant acquittal pap adjuster stent \n",
            "\n",
            "kras vicarious oligarchy cannoneer hemophilia betterness whiteworm bogard \n",
            "\n",
            "tec unoxidized needham restain arrastre agla unsight hermeneutic \n",
            "\n",
            "tec stringent turnback statured flophouse whitish humorous recto \n",
            "\n",
            "Time for epoch 1 is 397.9786615371704 sec\n",
            ">9001, c1=6.021, c1r=-6.432, c1f=8.054, g=-7.935\n",
            ">10001, c1=5.587, c1r=-9.550, c1f=11.341, g=-11.650\n",
            ">11001, c1=5.128, c1r=-2.555, c1f=3.579, g=-4.189\n",
            ">12001, c1=5.290, c1r=-2.557, c1f=4.305, g=-4.775\n",
            ">13001, c1=5.901, c1r=-2.496, c1f=4.728, g=-3.989\n",
            ">14001, c1=5.422, c1r=-3.618, c1f=5.077, g=-5.866\n",
            ">15001, c1=5.896, c1r=1.148, c1f=0.951, g=-1.981\n",
            ">16001, c1=3.845, c1r=2.533, c1f=-1.832, g=1.771\n",
            ">17001, c1=5.517, c1r=5.285, c1f=-3.093, g=3.125\n",
            "aviation faery nerver cupidity industrialist dissoluteness spoliate recto \n",
            "\n",
            "spokesman faery chakra concuss rector bridled widespreadly stent \n",
            "\n",
            "circumference thrush sleeplike secretive catty nascence therewith hermeneutic \n",
            "\n",
            "rumple execrate coincident anarchism expressway haystack humorous recto \n",
            "\n",
            "Time for epoch 2 is 383.2512903213501 sec\n",
            ">18001, c1=4.863, c1r=4.909, c1f=-3.503, g=4.614\n",
            ">19001, c1=4.899, c1r=7.541, c1f=-6.045, g=4.818\n",
            ">20001, c1=5.520, c1r=4.131, c1f=-1.775, g=1.676\n",
            ">21001, c1=5.314, c1r=6.204, c1f=-3.873, g=4.921\n",
            ">22001, c1=4.072, c1r=4.301, c1f=-3.193, g=2.920\n",
            ">23001, c1=4.514, c1r=1.752, c1f=-0.071, g=1.896\n",
            ">24001, c1=4.270, c1r=4.364, c1f=-2.715, g=2.887\n",
            ">25001, c1=5.300, c1r=-0.371, c1f=3.129, g=-2.661\n",
            ">26001, c1=3.707, c1r=-6.981, c1f=8.647, g=-9.695\n",
            "tec unworked tum philosoph rudderless circumscribed humorous recto \n",
            "\n",
            "tec unworked tum philosoph rudderless circumscribed humorous recto \n",
            "\n",
            "tec unworked tum philosoph rudderless circumscribed humorous recto \n",
            "\n",
            "tec unworked tum philosoph rudderless circumscribed humorous recto \n",
            "\n",
            "Time for epoch 3 is 382.78773617744446 sec\n",
            ">27001, c1=5.570, c1r=-9.214, c1f=12.062, g=-11.827\n",
            ">28001, c1=4.273, c1r=-4.574, c1f=6.390, g=-7.575\n",
            ">29001, c1=3.191, c1r=-0.402, c1f=1.251, g=-0.875\n",
            ">30001, c1=5.135, c1r=-2.056, c1f=4.429, g=-2.688\n",
            ">31001, c1=5.217, c1r=1.950, c1f=0.618, g=0.219\n",
            ">32001, c1=3.327, c1r=-4.456, c1f=5.406, g=-3.474\n",
            ">33001, c1=5.519, c1r=-8.918, c1f=11.920, g=-10.287\n",
            ">34001, c1=4.481, c1r=-7.908, c1f=10.188, g=-10.203\n",
            "tec unworked tum philosoph rudderless circumscribed humorous recto \n",
            "\n",
            "tec unworked tum philosoph rudderless circumscribed humorous recto \n",
            "\n",
            "tec unworked tum philosoph rudderless circumscribed humorous recto \n",
            "\n",
            "tec unworked tum philosoph rudderless circumscribed humorous recto \n",
            "\n",
            "Time for epoch 4 is 381.8139238357544 sec\n",
            ">35001, c1=3.108, c1r=-5.624, c1f=6.726, g=-6.525\n",
            ">36001, c1=3.888, c1r=-3.564, c1f=5.305, g=-7.174\n",
            ">37001, c1=3.674, c1r=-0.241, c1f=1.519, g=-1.457\n",
            ">38001, c1=3.855, c1r=-0.067, c1f=1.434, g=-1.556\n",
            ">39001, c1=4.309, c1r=-3.374, c1f=5.270, g=-5.590\n",
            ">40001, c1=4.076, c1r=-1.785, c1f=3.362, g=-2.289\n",
            ">41001, c1=3.037, c1r=-2.658, c1f=3.671, g=-4.925\n",
            ">42001, c1=3.781, c1r=-2.106, c1f=3.640, g=-3.265\n",
            ">43001, c1=4.184, c1r=-5.163, c1f=7.176, g=-7.117\n",
            "tec unworked tum philosoph rudderless circumscribed humorous recto \n",
            "\n",
            "tec unworked tum philosoph rudderless circumscribed humorous recto \n",
            "\n",
            "tec unworked tum philosoph rudderless circumscribed humorous recto \n",
            "\n",
            "tec unworked tum philosoph rudderless circumscribed humorous recto \n",
            "\n",
            "Time for epoch 5 is 379.98364996910095 sec\n",
            ">44001, c1=5.278, c1r=-5.661, c1f=9.072, g=-3.968\n",
            ">45001, c1=4.687, c1r=-8.924, c1f=11.664, g=-12.334\n",
            ">46001, c1=6.082, c1r=-8.848, c1f=12.485, g=-11.392\n",
            ">47001, c1=4.004, c1r=-8.688, c1f=10.662, g=-10.483\n",
            ">48001, c1=4.327, c1r=-12.917, c1f=15.249, g=-14.661\n",
            ">49001, c1=4.058, c1r=-10.873, c1f=12.876, g=-12.527\n",
            ">50001, c1=3.328, c1r=-6.755, c1f=8.257, g=-7.198\n",
            ">51001, c1=3.568, c1r=-3.875, c1f=5.812, g=-5.945\n",
            ">52001, c1=2.920, c1r=-2.813, c1f=3.622, g=-4.407\n",
            "tec unworked tum philosoph rudderless circumscribed humorous recto \n",
            "\n",
            "tec unworked tum philosoph rudderless circumscribed humorous recto \n",
            "\n",
            "tec unworked tum philosoph rudderless circumscribed humorous recto \n",
            "\n",
            "tec unworked tum philosoph rudderless circumscribed humorous recto \n",
            "\n",
            "Time for epoch 6 is 377.16775608062744 sec\n",
            ">53001, c1=4.243, c1r=-4.278, c1f=7.221, g=-6.483\n",
            ">54001, c1=3.625, c1r=-7.763, c1f=9.669, g=-10.951\n",
            ">55001, c1=3.023, c1r=-7.769, c1f=8.626, g=-9.568\n",
            ">56001, c1=2.506, c1r=-9.214, c1f=10.302, g=-11.979\n",
            ">57001, c1=3.586, c1r=-3.574, c1f=5.190, g=-5.578\n",
            ">58001, c1=3.221, c1r=-0.579, c1f=2.339, g=-1.581\n",
            ">59001, c1=3.919, c1r=-1.417, c1f=3.366, g=-3.446\n",
            ">60001, c1=3.921, c1r=0.071, c1f=2.069, g=-0.977\n",
            ">61001, c1=3.226, c1r=-2.982, c1f=4.912, g=-4.579\n",
            "tec unworked tum philosoph rudderless circumscribed humorous recto \n",
            "\n",
            "tec unworked tum philosoph rudderless circumscribed humorous recto \n",
            "\n",
            "tec unworked tum philosoph rudderless circumscribed humorous recto \n",
            "\n",
            "tec unworked tum philosoph rudderless circumscribed humorous recto \n",
            "\n",
            "Time for epoch 7 is 378.55340909957886 sec\n",
            ">62001, c1=2.482, c1r=-3.941, c1f=4.652, g=-4.850\n",
            ">63001, c1=3.617, c1r=-2.491, c1f=4.606, g=-4.886\n",
            ">64001, c1=3.657, c1r=-2.047, c1f=3.690, g=-6.070\n",
            ">65001, c1=4.661, c1r=-2.491, c1f=5.089, g=-3.022\n",
            ">66001, c1=2.436, c1r=-6.837, c1f=7.486, g=-8.791\n",
            ">67001, c1=5.051, c1r=-2.955, c1f=6.722, g=-5.528\n",
            ">68001, c1=2.423, c1r=-7.288, c1f=8.259, g=-9.195\n",
            ">69001, c1=2.709, c1r=-10.217, c1f=10.961, g=-15.294\n",
            "tec unworked tum philosoph rudderless circumscribed humorous recto \n",
            "\n",
            "tec unworked tum philosoph rudderless circumscribed humorous recto \n",
            "\n",
            "tec unworked tum philosoph rudderless circumscribed humorous recto \n",
            "\n",
            "tec unworked tum philosoph rudderless circumscribed humorous recto \n",
            "\n",
            "Time for epoch 8 is 379.6148498058319 sec\n",
            ">70001, c1=3.721, c1r=-14.894, c1f=17.058, g=-17.407\n",
            ">71001, c1=4.432, c1r=-13.612, c1f=15.815, g=-15.095\n",
            ">72001, c1=3.237, c1r=-17.707, c1f=19.312, g=-20.433\n",
            ">73001, c1=4.902, c1r=-18.963, c1f=22.519, g=-22.581\n",
            ">74001, c1=4.598, c1r=-12.898, c1f=15.579, g=-15.889\n",
            ">75001, c1=3.971, c1r=-14.272, c1f=16.301, g=-18.233\n",
            ">76001, c1=2.859, c1r=-11.983, c1f=12.812, g=-12.879\n",
            ">77001, c1=4.305, c1r=-13.150, c1f=15.485, g=-14.733\n",
            ">78001, c1=2.933, c1r=-13.188, c1f=14.513, g=-15.373\n",
            "tec unworked tum philosoph rudderless circumscribed humorous recto \n",
            "\n",
            "tec unworked tum philosoph rudderless circumscribed humorous recto \n",
            "\n",
            "tec unworked tum philosoph rudderless circumscribed humorous recto \n",
            "\n",
            "tec unworked tum philosoph rudderless circumscribed humorous recto \n",
            "\n",
            "Time for epoch 9 is 383.50835132598877 sec\n",
            ">79001, c1=3.926, c1r=-15.279, c1f=17.452, g=-17.400\n",
            ">80001, c1=5.390, c1r=-17.245, c1f=20.697, g=-20.115\n",
            ">81001, c1=6.035, c1r=-16.790, c1f=21.038, g=-21.050\n",
            ">82001, c1=4.086, c1r=-18.501, c1f=20.956, g=-20.313\n",
            ">83001, c1=2.962, c1r=-16.838, c1f=18.054, g=-20.544\n",
            ">84001, c1=4.828, c1r=-17.844, c1f=20.978, g=-21.497\n",
            ">85001, c1=4.158, c1r=-18.430, c1f=20.761, g=-19.273\n",
            ">86001, c1=3.162, c1r=-14.959, c1f=16.267, g=-16.873\n",
            ">87001, c1=3.546, c1r=-12.334, c1f=14.202, g=-13.828\n",
            "tec unworked tum philosoph rudderless circumscribed humorous recto \n",
            "\n",
            "tec unworked tum philosoph rudderless circumscribed humorous recto \n",
            "\n",
            "tec unworked tum philosoph rudderless circumscribed humorous recto \n",
            "\n",
            "tec unworked tum philosoph rudderless circumscribed humorous recto \n",
            "\n",
            "Time for epoch 10 is 382.24745321273804 sec\n",
            "tec unworked tum philosoph rudderless circumscribed humorous recto \n",
            "\n",
            "tec unworked tum philosoph rudderless circumscribed humorous recto \n",
            "\n",
            "tec unworked tum philosoph rudderless circumscribed humorous recto \n",
            "\n",
            "tec unworked tum philosoph rudderless circumscribed humorous recto \n",
            "\n"
          ],
          "name": "stdout"
        }
      ]
    },
    {
      "cell_type": "markdown",
      "metadata": {
        "id": "-RijMO-sgbfR"
      },
      "source": [
        "# **Losses and Testing**"
      ]
    },
    {
      "cell_type": "code",
      "metadata": {
        "id": "CnhO7WrUskiF",
        "colab": {
          "base_uri": "https://localhost:8080/",
          "height": 592
        },
        "outputId": "b8b74a0b-583e-483f-d0d0-50d24ecff11c"
      },
      "source": [
        "plt.figure(figsize = (10,10))\n",
        "\n",
        "plt.plot(c_hist, label=\"critic total loss (w/ gradient penalty)\")\n",
        "plt.plot(c_r_hist, label=\"critic real loss\")\n",
        "plt.plot(c_f_hist, label=\"critic fake loss\")\n",
        "plt.plot(g_hist, label=\"generator loss\")\n",
        "\n",
        "plt.legend()\n",
        "\n",
        "plt.show()"
      ],
      "execution_count": null,
      "outputs": [
        {
          "output_type": "display_data",
          "data": {
            "image/png": "[encoded data removed]",
            "text/plain": [
              "<Figure size 720x720 with 1 Axes>"
            ]
          },
          "metadata": {
            "tags": []
          }
        }
      ]
    },
    {
      "cell_type": "markdown",
      "metadata": {
        "id": "EUTj4MyugeB6"
      },
      "source": [
        "# **Saving WGAN Model**"
      ]
    },
    {
      "cell_type": "code",
      "metadata": {
        "id": "Jfm7kSDmUmQO"
      },
      "source": [
        "# SAVE the generator/discriminator here:\n",
        "\n",
        "generator.save('/content/drive/MyDrive/NLP bootcamp project/models/generator.h5')\n",
        "discriminator1.save('/content/drive/MyDrive/NLP bootcamp project/models/discriminator1.h5')\n"
      ],
      "execution_count": null,
      "outputs": []
    },
    {
      "cell_type": "code",
      "metadata": {
        "id": "N-ufR5LixWFm"
      },
      "source": [
        "# Things to do/fix:\n",
        "\n",
        "#1. [[Add gradient penalty to discriminator training]]\n",
        "#       DONE! is epsilon correct?\n",
        "\n",
        "#2. [[Play with the cyclic part of both learning rates, maybe make the range from trough to crest less]]\n",
        "#       DONE! check performance though\n",
        "\n",
        "#3. [[Change cross-entropy loss for encoder/decoder to MSE?]]\n",
        "#       DONE! check performance though\n",
        "\n",
        "#4. [[Add one more LSTM layer to both encoder/decoder?]] Make them RNNs?\n",
        "#       DONE! check performance/whether it works though\n",
        "\n",
        "#5. Should we have (relu) activations? Makes the kernel not compute using cuDNN, which is faster.\n",
        "#       Make it tanh activations but do 0.5(tanh(x) + 1) to get a probability in (0,1), THEN multiply by len(corpus)!\n",
        "#       Do all of this during training step.\n",
        "\n",
        "#6. IDEA: change architecture so outputs of decoder are probabilities? softmax? How to save order of sentence though?\n",
        "\n",
        "#7. Investigate the need for the rectifier..I thought encoder/decoder would get rid of that need?\n",
        "\n"
      ],
      "execution_count": null,
      "outputs": []
    }
  ]
}